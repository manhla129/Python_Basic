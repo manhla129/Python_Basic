{
 "cells": [
  {
   "cell_type": "code",
   "execution_count": null,
   "id": "793b3f76",
   "metadata": {},
   "outputs": [],
   "source": [
    "from tkinter import *\n",
    "import tkinter.font as font\n",
    "root = Tk()\n",
    "root.title('Calculator')\n",
    "root.geometry('325x410')\n",
    "\n",
    "dict_char = {'00':'MC','01':'MR','02':'MS','03':'M+','04':'M-',\n",
    "            '10':'←','11':'CE','12':'C','13':'±','14':'√',\n",
    "            '20':'7','21':'8','22':'9','23':'/','24':'%',\n",
    "            '30':'4','31':'5','32':'6','33':'*','34':'1/x',\n",
    "            '40':'1','41':'2','42':'3','43':'-',\n",
    "            '52':'.','53':'+'}\n",
    "\n",
    "frame0 = Frame(root, relief=RAISED, borderwidth=2)\n",
    "frame0.grid(row=1, column=1, padx=12, pady=5, ipadx=143, ipady=15)\n",
    "label0 = Label(frame0, text='0', font=('Arial', 20))\n",
    "label0.pack(side=RIGHT)\n",
    "\n",
    "myFont = font.Font(size=8, weight=\"bold\")\n",
    "\n",
    "frame1 = Frame(root, relief=RAISED)\n",
    "frame1.place(x=5, y=85)\n",
    "for i in range(6):\n",
    "    for j in range(5):\n",
    "        if i == 4 and j == 4:\n",
    "            continue\n",
    "        if i == 5 and j == 0:\n",
    "            continue\n",
    "        if i == 5 and j == 1:\n",
    "            continue\n",
    "        if i == 5 and j == 4:\n",
    "            continue\n",
    "        name = dict_char.get(str(i)+str(j))\n",
    "        frame11 = Frame(frame1, relief=RAISED, borderwidth=1)\n",
    "        frame11.grid(row=i, column=j, padx=4, pady=5)\n",
    "        button = Button(frame11, text=name, height=2, width=6)\n",
    "        button['font'] = myFont\n",
    "        button.pack()\n",
    "        \n",
    "frame11 = Frame(frame1, relief=RAISED, borderwidth=1)\n",
    "frame11.grid(row=4, column=4, rowspan = 2, padx=4, pady=5)\n",
    "button = Button(frame11, text='=', height=6, width=6)\n",
    "button['font'] = myFont\n",
    "button.pack()\n",
    "\n",
    "frame11 = Frame(frame1, relief=RAISED, borderwidth=1)\n",
    "frame11.grid(row=5, column=0, columnspan = 2, padx=4, pady=5)\n",
    "button = Button(frame11, text='0', height=2, width=16)\n",
    "button['font'] = myFont\n",
    "button.pack()\n",
    "\n",
    "\n",
    "        \n",
    "root.mainloop()"
   ]
  }
 ],
 "metadata": {
  "kernelspec": {
   "display_name": "Python 3 (ipykernel)",
   "language": "python",
   "name": "python3"
  },
  "language_info": {
   "codemirror_mode": {
    "name": "ipython",
    "version": 3
   },
   "file_extension": ".py",
   "mimetype": "text/x-python",
   "name": "python",
   "nbconvert_exporter": "python",
   "pygments_lexer": "ipython3",
   "version": "3.9.7"
  }
 },
 "nbformat": 4,
 "nbformat_minor": 5
}
