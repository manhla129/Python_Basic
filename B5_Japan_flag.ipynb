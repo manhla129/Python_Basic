{
 "cells": [
  {
   "cell_type": "code",
   "execution_count": 1,
   "id": "efae6c93",
   "metadata": {},
   "outputs": [],
   "source": [
    "import turtle\n",
    "tl = turtle.Turtle()\n",
    "width = 400\n",
    "length = 600\n",
    "\n",
    "tl.penup()\n",
    "tl.backward(length/2)\n",
    "tl.right(90)\n",
    "tl.forward(width/2)\n",
    "tl.left(90)\n",
    "tl.pendown()\n",
    "\n",
    "tl.forward(length)\n",
    "tl.left(90)\n",
    "tl.forward(width)\n",
    "tl.left(90)\n",
    "tl.forward(length)\n",
    "tl.left(90)\n",
    "tl.forward(width)\n",
    "\n",
    "tl.penup()\n",
    "tl.backward(width/5)\n",
    "tl.left(90)\n",
    "tl.forward(length/2)\n",
    "tl.pendown()\n",
    "tl.fillcolor('red')\n",
    "tl.begin_fill()\n",
    "tl.circle(width/5 + width/10)\n",
    "tl.end_fill()\n",
    "\n",
    "turtle.done()\n",
    "\n",
    "\n"
   ]
  }
 ],
 "metadata": {
  "kernelspec": {
   "display_name": "Python 3 (ipykernel)",
   "language": "python",
   "name": "python3"
  },
  "language_info": {
   "codemirror_mode": {
    "name": "ipython",
    "version": 3
   },
   "file_extension": ".py",
   "mimetype": "text/x-python",
   "name": "python",
   "nbconvert_exporter": "python",
   "pygments_lexer": "ipython3",
   "version": "3.9.7"
  }
 },
 "nbformat": 4,
 "nbformat_minor": 5
}
