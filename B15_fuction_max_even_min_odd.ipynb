{
 "cells": [
  {
   "cell_type": "code",
   "execution_count": 6,
   "id": "4b9afc1a",
   "metadata": {},
   "outputs": [
    {
     "name": "stdout",
     "output_type": "stream",
     "text": [
      "Max even, min odd:  (-14, -15)\n"
     ]
    }
   ],
   "source": [
    "def max_even_min_odd_text(text):\n",
    "    '''Hàm tìm số chẵn lớn nhất, số lẻ nhỏ nhất trong chuỗi hỗn hợp\n",
    "    các số được xác định bởi dấu cách'''\n",
    "    \n",
    "    def isnumber(text):\n",
    "        try:\n",
    "            num = int(text)\n",
    "            return True\n",
    "        except:\n",
    "            return False\n",
    "    \n",
    "    def get_number(text):\n",
    "        '''Tách các số từ 1 chuỗi hỗn hợp'''\n",
    "        text = text.split()\n",
    "        text2 = ''\n",
    "        for i in text:\n",
    "            if isnumber(i):\n",
    "                text2 += i +' '\n",
    "        return  text2\n",
    "    \n",
    "    def max_even_min_odd_number(num):\n",
    "        '''Tìm ra số chẵn lớn nhất, số lẻ nhỏ nhất trong chuỗi các số'''\n",
    "        num = num.split()\n",
    "        flag_even = False\n",
    "        flag_odd = False\n",
    "        for i in num:\n",
    "            if int(i)%2 == 0:\n",
    "                max = int(i)\n",
    "                flag_even = True\n",
    "            else:\n",
    "                min = int(i)\n",
    "                flag_odd = True\n",
    "        if flag_odd == False and flag_even == False:\n",
    "            max = '-'\n",
    "            min = '-'\n",
    "        elif flag_odd == True and flag_even == True:\n",
    "            for i in num:\n",
    "                if int(i)%2 !=0:\n",
    "                    if int(i) <= min:\n",
    "                        min = int(i)\n",
    "                else:\n",
    "                    if int(i) >= max:\n",
    "                        max = int(i)\n",
    "        else:       \n",
    "            for i in num:\n",
    "                if flag_even == False:\n",
    "                    max = '-'\n",
    "                    if int(i)%2 !=0:\n",
    "                        if int(i) <= min:\n",
    "                            min = int(i)\n",
    "                else:\n",
    "                    min = '-'\n",
    "                    if int(i)%2 ==0:\n",
    "                        if int(i) >= max:\n",
    "                            max = int(i)\n",
    "        return max, min\n",
    "        \n",
    "    num = get_number(text)\n",
    "    return max_even_min_odd_number(num)\n",
    "\n",
    "    \n",
    "text = 'asdfj asdkfj sd1kj3 1k23j 1k4h -11 1-2 -13 -14 -15 -16 4j234j'\n",
    "print('Max even, min odd: ',max_even_min_odd_text(text))            \n",
    "                     \n",
    "                                      \n",
    "                                                    \n"
   ]
  }
 ],
 "metadata": {
  "kernelspec": {
   "display_name": "Python 3 (ipykernel)",
   "language": "python",
   "name": "python3"
  },
  "language_info": {
   "codemirror_mode": {
    "name": "ipython",
    "version": 3
   },
   "file_extension": ".py",
   "mimetype": "text/x-python",
   "name": "python",
   "nbconvert_exporter": "python",
   "pygments_lexer": "ipython3",
   "version": "3.9.7"
  }
 },
 "nbformat": 4,
 "nbformat_minor": 5
}
