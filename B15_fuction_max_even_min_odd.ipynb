{
 "cells": [
  {
   "cell_type": "code",
   "execution_count": 9,
   "id": "13b1ac10-fdef-4827-bbfe-fe68de3fee01",
   "metadata": {},
   "outputs": [
    {
     "data": {
      "text/plain": [
       "(-14, -15)"
      ]
     },
     "execution_count": 9,
     "metadata": {},
     "output_type": "execute_result"
    }
   ],
   "source": [
    "def max_even_min_odd_text(text):\n",
    "    '''Hàm tìm số chẵn lớn nhất, số lẻ nhỏ nhất trong chuỗi hỗn hợp\n",
    "    các số được xác định bởi dấu cách'''\n",
    "    def isnumber(text):\n",
    "        try:\n",
    "            num = int(text)\n",
    "            return True\n",
    "        except:\n",
    "            return False\n",
    "    text = text.split()\n",
    "    even = False\n",
    "    odd = False\n",
    "    for i in text:\n",
    "        if isnumber(i):\n",
    "            if even == False:\n",
    "                if int(i)%2 == 0:\n",
    "                    max_even = int(i)\n",
    "                    even = True\n",
    "            if odd == False:\n",
    "                if int(i)%2 != 0:\n",
    "                    min_odd = int(i)\n",
    "                    odd = True\n",
    "    for i in text:\n",
    "        if even == True:\n",
    "            if isnumber(i):\n",
    "                if int(i)%2 == 0 and int(i) >= max_even:\n",
    "                    max_even = int(i)\n",
    "        else:\n",
    "            max_even = None\n",
    "        if odd == True:\n",
    "            if isnumber(i):\n",
    "                if int(i)%2 != 0 and int(i) <= min_odd:\n",
    "                    min_odd = int(i)\n",
    "        else:\n",
    "            min_odd = None\n",
    "    return max_even, min_odd\n",
    "            \n",
    "max_even_min_odd_text('asdfj asdkfj sd1kj3 1k23j 1k4h -11 1-2 -13 -14 -15 -16 4j234j')"
   ]
  },
  {
   "cell_type": "code",
   "execution_count": null,
   "id": "8bded1a1-b3e3-4688-9ed9-fb87fea0f8a3",
   "metadata": {},
   "outputs": [],
   "source": []
  }
 ],
 "metadata": {
  "kernelspec": {
   "display_name": "Python 3 (ipykernel)",
   "language": "python",
   "name": "python3"
  },
  "language_info": {
   "codemirror_mode": {
    "name": "ipython",
    "version": 3
   },
   "file_extension": ".py",
   "mimetype": "text/x-python",
   "name": "python",
   "nbconvert_exporter": "python",
   "pygments_lexer": "ipython3",
   "version": "3.7.12"
  }
 },
 "nbformat": 4,
 "nbformat_minor": 5
}
