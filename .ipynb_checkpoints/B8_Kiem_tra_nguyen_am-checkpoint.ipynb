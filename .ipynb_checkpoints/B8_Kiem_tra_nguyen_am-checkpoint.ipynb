{
 "cells": [
  {
   "cell_type": "code",
   "execution_count": 3,
   "id": "f1c981eb",
   "metadata": {},
   "outputs": [
    {
     "name": "stdout",
     "output_type": "stream",
     "text": [
      "Nhập 1 chuỗi bất kì: zxcvzxcv\n",
      "Trong chuỗi có chứa nguyên âm không? False\n"
     ]
    }
   ],
   "source": [
    "my_text = input(\"Nhập 1 chuỗi bất kì: \")\n",
    "check = \"a\" in my_text or \"i\" in my_text or \"e\" in my_text or \"o\" in my_text or \"u\" in my_text\n",
    "print(\"Trong chuỗi có chứa nguyên âm không?\", check)"
   ]
  }
 ],
 "metadata": {
  "kernelspec": {
   "display_name": "Python 3 (ipykernel)",
   "language": "python",
   "name": "python3"
  },
  "language_info": {
   "codemirror_mode": {
    "name": "ipython",
    "version": 3
   },
   "file_extension": ".py",
   "mimetype": "text/x-python",
   "name": "python",
   "nbconvert_exporter": "python",
   "pygments_lexer": "ipython3",
   "version": "3.9.7"
  }
 },
 "nbformat": 4,
 "nbformat_minor": 5
}
