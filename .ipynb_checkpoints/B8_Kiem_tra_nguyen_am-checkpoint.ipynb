{
 "cells": [
  {
   "cell_type": "code",
   "execution_count": 16,
   "id": "f1c981eb",
   "metadata": {
    "scrolled": true
   },
   "outputs": [
    {
     "name": "stdout",
     "output_type": "stream",
     "text": [
      "Nhập 1 chuỗi bất kì: flkgjfi\n",
      "Trong chuỗi có chứa nguyên âm không? True\n",
      "Trong chuỗi có chứa nguyên âm không? False\n"
     ]
    }
   ],
   "source": [
    "text = input(\"Nhập 1 chuỗi bất kì: \")\n",
    "check = \"a\" in text or \"i\" in text or \"e\" in text or \"o\" in text or \"u\" in text\n",
    "print(\"Trong chuỗi có chứa nguyên âm không?\", check)\n"
   ]
  }
 ],
 "metadata": {
  "kernelspec": {
   "display_name": "Python 3 (ipykernel)",
   "language": "python",
   "name": "python3"
  },
  "language_info": {
   "codemirror_mode": {
    "name": "ipython",
    "version": 3
   },
   "file_extension": ".py",
   "mimetype": "text/x-python",
   "name": "python",
   "nbconvert_exporter": "python",
   "pygments_lexer": "ipython3",
   "version": "3.9.7"
  }
 },
 "nbformat": 4,
 "nbformat_minor": 5
}
