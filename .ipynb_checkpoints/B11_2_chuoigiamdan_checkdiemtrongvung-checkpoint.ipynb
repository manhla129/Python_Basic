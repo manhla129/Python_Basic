{
 "cells": [
  {
   "cell_type": "code",
   "execution_count": 2,
   "id": "e2e29e18",
   "metadata": {},
   "outputs": [
    {
     "ename": "SyntaxError",
     "evalue": "invalid syntax (Temp/ipykernel_11092/1822729166.py, line 14)",
     "output_type": "error",
     "traceback": [
      "\u001b[1;36m  File \u001b[1;32m\"C:\\Users\\ADMIN\\AppData\\Local\\Temp/ipykernel_11092/1822729166.py\"\u001b[1;36m, line \u001b[1;32m14\u001b[0m\n\u001b[1;33m    if int(i)\u001b[0m\n\u001b[1;37m              ^\u001b[0m\n\u001b[1;31mSyntaxError\u001b[0m\u001b[1;31m:\u001b[0m invalid syntax\n"
     ]
    }
   ],
   "source": [
    "#1 In ra chuỗi giảm dần dài nhất\n",
    "\n",
    "text = '8210374823643282'\n",
    "i = 0\n",
    "chuoi = ''\n",
    "while i < len(text)-1:\n",
    "    if int(text[i]) < int(text[i+1]):\n",
    "        chuoi += text[i] +'-'\n",
    "    else:\n",
    "        chuoi += text[i]\n",
    "    i += 1\n",
    "print(chuoi)\n",
    "if chuoi[-1] == '-':\n",
    "    chuoi = chuoi\n",
    "else:\n",
    "    if int(chuoi[-1]) > int(text[-1]):\n",
    "        chuoi += text[-1]\n",
    "chuoi = chuoi.split('-')\n",
    "print(chuoi)\n",
    "max = 0\n",
    "\n",
    "print('Chuỗi giảm dần dài nhất: ')\n",
    "for i in chuoi:\n",
    "    if len(i) >=max:\n",
    "        max = len(i)\n",
    "for i in chuoi:\n",
    "    if len(i) == max:\n",
    "        print(i)"
   ]
  },
  {
   "cell_type": "code",
   "execution_count": 14,
   "id": "8c82c282",
   "metadata": {},
   "outputs": [
    {
     "name": "stdout",
     "output_type": "stream",
     "text": [
      "Nhập tọa độ của P:\n",
      "x= -1\n",
      "y= -1\n",
      "P thuộc vùng D\n"
     ]
    }
   ],
   "source": [
    "#2 check điểm P(x, y) có thuộc vùng không?\n",
    "# vùng D giới hạn bởi nửa đường tròn tâm 0, 0 bán kính 2 về phía trục x âm\n",
    "# và 2 đoạn thẳng đi qua các điểm:\n",
    "# đoạn thẳng 1 đi qua: 0,2 & 6,0\n",
    "# đoạn thẳng 2 đi qua: 0,-2 & 6,0\n",
    "\n",
    "print('Nhập tọa độ của P:')\n",
    "x = float(input('x= '))\n",
    "y = float(input('y= '))\n",
    "\n",
    "if x < -2 or x > 6 or y < -2 or y > 2:\n",
    "    print('P không thuộc vùng D')\n",
    "elif x >= -2 and x <=0:\n",
    "    d = (x**2 + y**2)**0.5\n",
    "    if d <=2:\n",
    "        print('P thuộc vùng D')\n",
    "    else:\n",
    "        print('P không thuộc vùng D')\n",
    "else:\n",
    "    ptd1 = x/3 + y - 2\n",
    "    ptd2 = -x/3 + y + 2\n",
    "    if ptd1<=0 and ptd2 >=0:\n",
    "        print('P thuộc vùng D')\n",
    "    else:\n",
    "        print('P không thuộc vùng D')"
   ]
  }
 ],
 "metadata": {
  "kernelspec": {
   "display_name": "Python 3 (ipykernel)",
   "language": "python",
   "name": "python3"
  },
  "language_info": {
   "codemirror_mode": {
    "name": "ipython",
    "version": 3
   },
   "file_extension": ".py",
   "mimetype": "text/x-python",
   "name": "python",
   "nbconvert_exporter": "python",
   "pygments_lexer": "ipython3",
   "version": "3.9.7"
  }
 },
 "nbformat": 4,
 "nbformat_minor": 5
}
