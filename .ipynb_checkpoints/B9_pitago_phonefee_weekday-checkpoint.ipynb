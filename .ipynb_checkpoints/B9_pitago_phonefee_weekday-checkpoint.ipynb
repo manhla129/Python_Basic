{
 "cells": [
  {
   "cell_type": "code",
   "execution_count": 1,
   "id": "2da9dbee",
   "metadata": {},
   "outputs": [
    {
     "name": "stdout",
     "output_type": "stream",
     "text": [
      "Nhập vào 3 số tự nhiên a, b, c\n",
      "Nhập a = 3\n",
      "Nhập b = 4\n",
      "Nhập c = 5\n",
      "Bộ 3 số trên tạo thành bộ số Pitago\n"
     ]
    }
   ],
   "source": [
    "#1: Kiểm tra 3 số tự nhiên có tạo thành bộ số Pitago hay không? \n",
    "print('Nhập vào 3 số tự nhiên a, b, c')\n",
    "a = int(input('Nhập a = ')) \n",
    "b = int(input('Nhập b = ')) \n",
    "c = int(input('Nhập c = ')) \n",
    "if a**2 + b**2 == c**2 or a**2 + c**2 == b**2 or b**2 + c**2 == a**2:\n",
    "    print('Bộ 3 số trên tạo thành bộ số Pitago') \n",
    "else:\n",
    "    print('Bộ 3 số trên KHÔNG tạo thành bộ số Pitago') "
   ]
  },
  {
   "cell_type": "code",
   "execution_count": 16,
   "id": "d405d280",
   "metadata": {
    "scrolled": true
   },
   "outputs": [
    {
     "name": "stdout",
     "output_type": "stream",
     "text": [
      "Nhập thời gian gọi n = 300\n",
      "Tổng chi phí của gia đình khi sử dụng 300 phút gọi là: 135000\n"
     ]
    }
   ],
   "source": [
    "#2: Tính cước điện thoại\n",
    "#phí thuê bao hàng tháng\n",
    "phi_thue_bao = 25000\n",
    "\n",
    "n = int(input('Nhập thời gian gọi n = '))\n",
    "total = phi_thue_bao\n",
    "\n",
    "if n < 0:\n",
    "    print(\"Số phút nhập không đúng\")\n",
    "elif n <= 50:\n",
    "    total = total + 600*n\n",
    "elif n <=200:\n",
    "    total = total + 600*50 + 400*(n-50) \n",
    "else:\n",
    "    total = total + 600*50 + 400*150 + 200*(n-50-150)\n",
    "\n",
    "if n < 0:\n",
    "    print(\"Hãy nhập lại số phút >=0\")\n",
    "else:\n",
    "    print('Tổng chi phí của gia đình khi sử dụng {0} phút gọi là: {1}'. format(n,  total) ) "
   ]
  },
  {
   "cell_type": "code",
   "execution_count": 3,
   "id": "201aeb1f",
   "metadata": {},
   "outputs": [
    {
     "name": "stdout",
     "output_type": "stream",
     "text": [
      "Nhập số tự nhiên n = 2\n",
      "Thứ Tư\n"
     ]
    }
   ],
   "source": [
    "#3: Xuất ra thứ trong tuần theo số nhập\n",
    "n = int(input('Nhập số tự nhiên n = '))\n",
    "\n",
    "if n==0:\n",
    "    print('Thứ Hai') \n",
    "elif n==1:\n",
    "    print('Thứ Ba') \n",
    "elif n==2:\n",
    "    print('Thứ Tư') \n",
    "elif n==3:\n",
    "    print('Thứ Năm')\n",
    "elif n==4:\n",
    "    print('Thứ Sáu')\n",
    "elif n==5:\n",
    "    print('Thứ Bảy')\n",
    "elif n==6:\n",
    "    print('Chủ Nhật')\n",
    "else:\n",
    "    print('Số nhập không hợp lệ, hãy nhập số nguyên từ 0 đến 6')  "
   ]
  }
 ],
 "metadata": {
  "kernelspec": {
   "display_name": "Python 3 (ipykernel)",
   "language": "python",
   "name": "python3"
  },
  "language_info": {
   "codemirror_mode": {
    "name": "ipython",
    "version": 3
   },
   "file_extension": ".py",
   "mimetype": "text/x-python",
   "name": "python",
   "nbconvert_exporter": "python",
   "pygments_lexer": "ipython3",
   "version": "3.9.7"
  }
 },
 "nbformat": 4,
 "nbformat_minor": 5
}
