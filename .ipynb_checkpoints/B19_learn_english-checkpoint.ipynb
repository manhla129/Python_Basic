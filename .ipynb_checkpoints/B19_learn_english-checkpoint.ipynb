{
 "cells": [
  {
   "cell_type": "code",
   "execution_count": 3,
   "id": "2dec7949-70aa-49f0-bc7b-bcd760e1eb98",
   "metadata": {},
   "outputs": [
    {
     "name": "stdout",
     "output_type": "stream",
     "text": [
      "Hãy nhập nghĩa của từ \"Teacher\":\n"
     ]
    },
    {
     "name": "stdin",
     "output_type": "stream",
     "text": [
      "\t Giáo viên\n"
     ]
    },
    {
     "name": "stdout",
     "output_type": "stream",
     "text": [
      "\t>>>> Đúng\n",
      "\t>>>> Bạn có 6 điểm\n",
      "Hãy nhập nghĩa của từ \"Notebook\":\n"
     ]
    },
    {
     "name": "stdin",
     "output_type": "stream",
     "text": [
      "\t Vở\n"
     ]
    },
    {
     "name": "stdout",
     "output_type": "stream",
     "text": [
      "\t>>>> Đúng\n",
      "\t>>>> Bạn có 7 điểm\n",
      "Hãy nhập nghĩa của từ \"Pencil\":\n"
     ]
    },
    {
     "name": "stdin",
     "output_type": "stream",
     "text": [
      "\t Bút\n"
     ]
    },
    {
     "name": "stdout",
     "output_type": "stream",
     "text": [
      "\t>>>> Sai\n",
      "\t>>>> Bạn có 6 điểm\n",
      "Hãy nhập nghĩa của từ \"Ruler\":\n"
     ]
    },
    {
     "name": "stdin",
     "output_type": "stream",
     "text": [
      "\t Thước\n"
     ]
    },
    {
     "name": "stdout",
     "output_type": "stream",
     "text": [
      "\t>>>> Sai\n",
      "\t>>>> Bạn có 5 điểm\n",
      "Hãy nhập nghĩa của từ \"Pen\":\n"
     ]
    },
    {
     "name": "stdin",
     "output_type": "stream",
     "text": [
      "\t Bút\n"
     ]
    },
    {
     "name": "stdout",
     "output_type": "stream",
     "text": [
      "\t>>>> Đúng\n",
      "\t>>>> Bạn có 6 điểm\n",
      "Hãy nhập nghĩa của từ \"Book\":\n"
     ]
    },
    {
     "name": "stdin",
     "output_type": "stream",
     "text": [
      "\t Sách\n"
     ]
    },
    {
     "name": "stdout",
     "output_type": "stream",
     "text": [
      "\t>>>> Đúng\n",
      "\t>>>> Bạn có 7 điểm\n",
      "Hãy nhập nghĩa của từ \"Pencil\":\n"
     ]
    },
    {
     "name": "stdin",
     "output_type": "stream",
     "text": [
      "\t Bút chì\n"
     ]
    },
    {
     "name": "stdout",
     "output_type": "stream",
     "text": [
      "\t>>>> Đúng\n",
      "\t>>>> Bạn có 8 điểm\n",
      "Hãy nhập nghĩa của từ \"Notebook\":\n"
     ]
    },
    {
     "name": "stdin",
     "output_type": "stream",
     "text": [
      "\t Vở\n"
     ]
    },
    {
     "name": "stdout",
     "output_type": "stream",
     "text": [
      "\t>>>> Đúng\n",
      "\t>>>> Bạn có 9 điểm\n",
      "Hãy nhập nghĩa của từ \"Student\":\n"
     ]
    },
    {
     "name": "stdin",
     "output_type": "stream",
     "text": [
      "\t Sinh viên\n"
     ]
    },
    {
     "name": "stdout",
     "output_type": "stream",
     "text": [
      "\t>>>> Đúng\n",
      "\t>>>> Bạn có 10 điểm\n",
      "\t>>>> Bạn đã chiến thắng\n",
      "Bạn có muốn chơi lại không? Y/N\n"
     ]
    },
    {
     "name": "stdin",
     "output_type": "stream",
     "text": [
      "\t Y\n"
     ]
    },
    {
     "name": "stdout",
     "output_type": "stream",
     "text": [
      "Hãy nhập nghĩa của từ \"Board\":\n"
     ]
    },
    {
     "name": "stdin",
     "output_type": "stream",
     "text": [
      "\t Bảng\n"
     ]
    },
    {
     "name": "stdout",
     "output_type": "stream",
     "text": [
      "\t>>>> Đúng\n",
      "\t>>>> Bạn có 6 điểm\n",
      "Hãy nhập nghĩa của từ \"Teacher\":\n"
     ]
    },
    {
     "name": "stdin",
     "output_type": "stream",
     "text": [
      "\t 1\n"
     ]
    },
    {
     "name": "stdout",
     "output_type": "stream",
     "text": [
      "\t>>>> Sai\n",
      "\t>>>> Bạn có 5 điểm\n",
      "Hãy nhập nghĩa của từ \"Pencil\":\n"
     ]
    },
    {
     "name": "stdin",
     "output_type": "stream",
     "text": [
      "\t 1\n"
     ]
    },
    {
     "name": "stdout",
     "output_type": "stream",
     "text": [
      "\t>>>> Sai\n",
      "\t>>>> Bạn có 4 điểm\n",
      "Hãy nhập nghĩa của từ \"Notebook\":\n"
     ]
    },
    {
     "name": "stdin",
     "output_type": "stream",
     "text": [
      "\t 1\n"
     ]
    },
    {
     "name": "stdout",
     "output_type": "stream",
     "text": [
      "\t>>>> Sai\n",
      "\t>>>> Bạn có 3 điểm\n",
      "Hãy nhập nghĩa của từ \"School\":\n"
     ]
    },
    {
     "name": "stdin",
     "output_type": "stream",
     "text": [
      "\t 1\n"
     ]
    },
    {
     "name": "stdout",
     "output_type": "stream",
     "text": [
      "\t>>>> Sai\n",
      "\t>>>> Bạn có 2 điểm\n",
      "Hãy nhập nghĩa của từ \"Pencil\":\n"
     ]
    },
    {
     "name": "stdin",
     "output_type": "stream",
     "text": [
      "\t 1\n"
     ]
    },
    {
     "name": "stdout",
     "output_type": "stream",
     "text": [
      "\t>>>> Sai\n",
      "\t>>>> Bạn có 1 điểm\n",
      "Hãy nhập nghĩa của từ \"Notebook\":\n"
     ]
    },
    {
     "name": "stdin",
     "output_type": "stream",
     "text": [
      "\t 1\n"
     ]
    },
    {
     "name": "stdout",
     "output_type": "stream",
     "text": [
      "\t>>>> Sai\n",
      "\t>>>> Bạn có 0 điểm\n",
      "\t>>>> Bạn đã thua cuộc\n",
      "Bạn có muốn chơi lại không? Y/N\n"
     ]
    },
    {
     "name": "stdin",
     "output_type": "stream",
     "text": [
      "\t Y\n"
     ]
    },
    {
     "name": "stdout",
     "output_type": "stream",
     "text": [
      "Hãy nhập nghĩa của từ \"Class\":\n"
     ]
    },
    {
     "name": "stdin",
     "output_type": "stream",
     "text": [
      "\t Quit\n"
     ]
    },
    {
     "name": "stdout",
     "output_type": "stream",
     "text": [
      "\t>>>> Kết thúc trò chơi\n"
     ]
    }
   ],
   "source": [
    "'''Mini game học tiếng Anh\n",
    "Khởi đầu bạn sẽ có 5 điểm\n",
    "Mỗi lần máy tính sẽ đưa ra 1 từ tiếng Anh bất kì, hãy nhập nghĩa tiếng Việt của từ đó\n",
    "Nếu trả lời đúng, bạn sẽ được +1 điểm\n",
    "Còn trả lời sai, bạn sẽ bị -1 điểm\n",
    "Trò chơi kết thúc khi bạn đạt 10 điểm (Chiến thắng) hoặc 0 điểm (Thua cuộc) \n",
    "Bạn có thể dừng trò chơi bất cứ lúc nào bằng cách nhập từ \"Quit\"\n",
    "'''\n",
    "\n",
    "import random\n",
    "dict_game = {'School':'Trường học', 'Class':'Lớp học', 'Room':'Phòng học', \n",
    "             'Teacher':'Giáo viên', 'Student':'Sinh viên', 'Roomates':'Bạn cùng phòng', \n",
    "             'Ruler':'Thước kẻ', 'Board':'Bảng', 'Chair':'Ghế', 'Desk':'Bàn', \n",
    "             'Book':'Sách', 'Notebook':'Vở', 'Pen':'Bút', 'Pencil':'Bút chì'} \n",
    "\n",
    "point = 5\n",
    "quit_game = False\n",
    "\n",
    "while not quit_game:\n",
    "    key = random. choice(list(key for key in dict_game.keys())) \n",
    "    print('Hãy nhập nghĩa của từ \"{0}\":'. format(key)) \n",
    "    value = input('\\t') \n",
    "    if value == 'Quit':\n",
    "        quit_game = True\n",
    "        print('\\t>>>> Kết thúc trò chơi') \n",
    "    else:\n",
    "        if value == dict_game.get(key):\n",
    "            point+=1\n",
    "            print('\\t>>>> Đúng')\n",
    "            print('\\t>>>> Bạn có {0} điểm'.format(point))\n",
    "            if point == 10:\n",
    "                print('\\t>>>> Bạn đã chiến thắng')\n",
    "                print('Bạn có muốn chơi lại không? Y/N')\n",
    "                try_again = input('\\t')\n",
    "                if try_again == 'Y':\n",
    "                    quit_game = False\n",
    "                    point = 5\n",
    "                else:\n",
    "                    quit_game = True\n",
    "        else:\n",
    "            point-=1\n",
    "            print('\\t>>>> Sai')\n",
    "            print('\\t>>>> Bạn có {0} điểm'.format(point))\n",
    "            if point == 0:\n",
    "                print('\\t>>>> Bạn đã thua cuộc')\n",
    "                print('Bạn có muốn chơi lại không? Y/N')\n",
    "                try_again = input('\\t')\n",
    "                if try_again == 'Y':\n",
    "                    quit_game = False\n",
    "                    point = 5\n",
    "                else:\n",
    "                    quit_game = True\n",
    "                \n",
    "             "
   ]
  },
  {
   "cell_type": "code",
   "execution_count": null,
   "id": "ea57a45f-8bcd-4686-9546-8d239ee1f2a5",
   "metadata": {},
   "outputs": [],
   "source": []
  }
 ],
 "metadata": {
  "kernelspec": {
   "display_name": "Python 3 (ipykernel)",
   "language": "python",
   "name": "python3"
  },
  "language_info": {
   "codemirror_mode": {
    "name": "ipython",
    "version": 3
   },
   "file_extension": ".py",
   "mimetype": "text/x-python",
   "name": "python",
   "nbconvert_exporter": "python",
   "pygments_lexer": "ipython3",
   "version": "3.9.7"
  }
 },
 "nbformat": 4,
 "nbformat_minor": 5
}
