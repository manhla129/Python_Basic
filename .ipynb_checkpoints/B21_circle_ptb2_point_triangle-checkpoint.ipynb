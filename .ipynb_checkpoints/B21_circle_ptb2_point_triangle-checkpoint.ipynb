{
 "cells": [
  {
   "cell_type": "code",
   "execution_count": 1,
   "id": "fa246c03-d9e1-4c89-89cf-35d8b1216fee",
   "metadata": {},
   "outputs": [
    {
     "name": "stdin",
     "output_type": "stream",
     "text": [
      "Nhập bán kính hình tròn:  4\n"
     ]
    },
    {
     "name": "stdout",
     "output_type": "stream",
     "text": [
      "Chu vi hình tròn: 25.12\n",
      "Diện tích hình tròn: 50.24\n"
     ]
    }
   ],
   "source": [
    "class Circle():\n",
    "    def __init__(self, r):\n",
    "        self.r = r\n",
    "        \n",
    "    def length(self):\n",
    "        if self.r > 0:\n",
    "            return 3.14*self.r*2\n",
    "    \n",
    "    def area(self):\n",
    "        if self.r > 0:\n",
    "            return 3.14*(self.r)**2\n",
    "        \n",
    "r = float(input('Nhập bán kính hình tròn: '))\n",
    "c = Circle(r)\n",
    "print('Chu vi hình tròn:', c.length())\n",
    "print('Diện tích hình tròn:', c.area())"
   ]
  },
  {
   "cell_type": "code",
   "execution_count": 1,
   "id": "e57ade5c-5230-4e77-8db2-a21a0490d38f",
   "metadata": {},
   "outputs": [
    {
     "name": "stdout",
     "output_type": "stream",
     "text": [
      "Nhập a: 1\n",
      "Nhập b: 1\n",
      "Nhập c: 1\n",
      "PTB2: x^2 + x + 1\n",
      "Nghiệm của phương trình là: None & None\n"
     ]
    }
   ],
   "source": [
    "class Ptb2():\n",
    "    # Constructor\n",
    "    def __init__(self, a, b, c):\n",
    "        self.a = a\n",
    "        self.b = b\n",
    "        self.c = c\n",
    "        \n",
    "    # Print ptb2\n",
    "    def print_pt(self):\n",
    "        vt1 = ''\n",
    "        vt2 = ''\n",
    "        vt3 = ''\n",
    "        \n",
    "        # vt1\n",
    "        if self.a  == 1:\n",
    "            vt1 = 'x^2'\n",
    "        elif self.a == -1:\n",
    "            vt1 = '-x^2'\n",
    "        elif self.a > 1:\n",
    "            vt1 = str(self.a) + 'x^2'\n",
    "        elif self.a < -1:\n",
    "            vt1 = '-' + str(-elf.a) + 'x^2'\n",
    "        \n",
    "        # vt2\n",
    "        if self.b == 1:\n",
    "            if self.a == 0:\n",
    "                vt2 = 'x'\n",
    "            else:\n",
    "                vt2 = ' + x'\n",
    "        elif self.b == -1:\n",
    "            if self.a == 0:\n",
    "                vt2 = '-x'\n",
    "            else:\n",
    "                vt2 = ' - x'\n",
    "        elif self.b > 1:\n",
    "            if self.a == 0:\n",
    "                vt2 = str(self.b) + 'x'\n",
    "            else:\n",
    "                vt2 = ' + ' + str(self.b) + 'x'\n",
    "        elif self.b < -1:\n",
    "            if self.a == 0:\n",
    "                vt2 = str(self.b) + 'x'\n",
    "            else:\n",
    "                vt2 = ' - ' + str(-self.b) + 'x'\n",
    "                \n",
    "        # vt3\n",
    "        if self.c < 0:\n",
    "            vt3 = ' - ' + str(-self.c)\n",
    "        elif self.c > 0:\n",
    "            if self.a == self.b == 0:\n",
    "                vt3 = str(self.c)\n",
    "            else:\n",
    "                vt3 = ' + ' + str(self.c)\n",
    "        \n",
    "        print('PTB2: ' + vt1 + vt2 + vt3)\n",
    "        \n",
    "    # Tìm nghiệm của ptb2\n",
    "    def find_pt(self):\n",
    "        if self.a == 0:\n",
    "            if self.b == 0:\n",
    "                if self.c == 0:\n",
    "                    check = 0\n",
    "                    x1 = x2 = None\n",
    "                else:\n",
    "                    check = -1\n",
    "                    x1 = x2 = None\n",
    "            else:\n",
    "                check = 1\n",
    "                x1 = x2 = -self.c/self.b\n",
    "        else:\n",
    "            delta = self.b**2 - 4*self.a*self.c\n",
    "            if delta < 0:\n",
    "                check = -1\n",
    "                x1 = x2 = None\n",
    "            elif delta == 0:\n",
    "                check = 1\n",
    "                x1 = x2 = -self.b/(2*self.a)\n",
    "            else:\n",
    "                check = 2\n",
    "                x1 = (self.b + delta**0.5)/(2*self.a)\n",
    "                x2 = (-self.b + delta**0.5)/(2*self.a)\n",
    "        return check, x1, x2\n",
    "\n",
    "a = int(input('Nhập a: '))\n",
    "b = int(input('Nhập b: '))\n",
    "c = int(input('Nhập c: '))\n",
    "pt = Ptb2(a, b, c)\n",
    "pt.print_pt()\n",
    "check, x1, x2 = pt.find_pt()\n",
    "print('Nghiệm của phương trình là: {0} & {1}'.format(x1, x2))"
   ]
  },
  {
   "cell_type": "code",
   "execution_count": 4,
   "id": "0545a5a6-3e96-4d6c-b957-c31ecd09f9ee",
   "metadata": {},
   "outputs": [
    {
     "name": "stdout",
     "output_type": "stream",
     "text": [
      "5.0\n",
      "5.0\n"
     ]
    }
   ],
   "source": [
    "import math\n",
    "class Point:\n",
    "    def __init__(self, x, y):\n",
    "        self.x = x\n",
    "        self.y = y\n",
    "    \n",
    "    # Hàm thành viên của lớp/ Non-static\n",
    "    def distance(self, point):\n",
    "        '''point là 1 điểm khác có kiểu dữ liệu là Point'''\n",
    "        return math.sqrt((self.x - point.x)**2 + (self.y - point.y)**2)\n",
    "    \n",
    "    # Hàm static, được định nghĩa trong lớp nhưng không phải là thành viên của lớp\n",
    "    @staticmethod\n",
    "    def distance2(p1, p2):\n",
    "        return math.sqrt((p1.x - p2.x)**2 + (p1.y - p2.y)**2)\n",
    "    \n",
    "p1 = Point(0,0)\n",
    "p2 = Point(3,4)\n",
    "print(p1.distance(p2))\n",
    "print(Point.distance2(p1, p2))"
   ]
  },
  {
   "cell_type": "code",
   "execution_count": 6,
   "id": "1dbec312",
   "metadata": {},
   "outputs": [
    {
     "name": "stdout",
     "output_type": "stream",
     "text": [
      "True\n",
      "L = 12.0\n",
      "S = 6.0\n"
     ]
    }
   ],
   "source": [
    "class Triangle:\n",
    "    def __init__(self, p1, p2, p3):\n",
    "        self.p1 = p1\n",
    "        self.p2 = p2\n",
    "        self.p3 = p3\n",
    "    \n",
    "    def validate(self):\n",
    "        a = p1.distance(p2)\n",
    "        b = p2.distance(p3)\n",
    "        c = p1.distance(p3)\n",
    "        if a + b > c and a + c > b and b + c > a:\n",
    "            return True\n",
    "        else:\n",
    "            return False\n",
    "        \n",
    "    def length(self):\n",
    "        if self.validate():\n",
    "            return p1.distance(p2) + p2.distance(p3) + p1.distance(p3)\n",
    "\n",
    "    def area(self):   \n",
    "        if self.validate():\n",
    "            a = p1.distance(p2)\n",
    "            b = p2.distance(p3)\n",
    "            c = p1.distance(p3)\n",
    "            p = (a+b+c)/2\n",
    "            return math.sqrt(p*(p-a)*(p-b)*(p-c))\n",
    "\n",
    "p1 = Point(0, 0)\n",
    "p2 = Point(3, 0)\n",
    "p3 = Point(3, 4)\n",
    "\n",
    "triangle = Triangle(p1, p2, p3)\n",
    "print(triangle.validate())\n",
    "print('L =',triangle.length())\n",
    "print('S =',triangle.area())"
   ]
  },
  {
   "cell_type": "code",
   "execution_count": null,
   "id": "365201e4",
   "metadata": {},
   "outputs": [],
   "source": [
    "\n"
   ]
  }
 ],
 "metadata": {
  "kernelspec": {
   "display_name": "Python 3 (ipykernel)",
   "language": "python",
   "name": "python3"
  },
  "language_info": {
   "codemirror_mode": {
    "name": "ipython",
    "version": 3
   },
   "file_extension": ".py",
   "mimetype": "text/x-python",
   "name": "python",
   "nbconvert_exporter": "python",
   "pygments_lexer": "ipython3",
   "version": "3.9.7"
  }
 },
 "nbformat": 4,
 "nbformat_minor": 5
}
