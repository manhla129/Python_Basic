{
 "cells": [
  {
   "cell_type": "code",
   "execution_count": 12,
   "id": "18f28f36",
   "metadata": {},
   "outputs": [
    {
     "name": "stdout",
     "output_type": "stream",
     "text": [
      "Is direct?\n",
      "False\n",
      "\n",
      "Is a equilateral triangle?\n",
      "False\n",
      "\n",
      "Is a isosceles triangle?\n",
      "True\n",
      "\n",
      "Is a right triangle?\n",
      "True\n",
      "\n",
      "Is a normal triangle?\n",
      "False\n"
     ]
    }
   ],
   "source": [
    "import math\n",
    "\n",
    "xA, yA = 0, 0\n",
    "xB, yB = 1, 0\n",
    "xC, yC = 0, 1\n",
    "\n",
    "dAB = math.sqrt((xB-xA)**2 + (yB-yA)**2)\n",
    "dBC = math.sqrt((xC-xB)**2 + (yC-yB)**2)\n",
    "dAC = math.sqrt((xC-xA)**2 + (yC-yA)**2)\n",
    "\n",
    "print('Is direct?')\n",
    "direct = dAC == dAB + dBC or dBC == dAC + dAB or dAB == dBC + dAC\n",
    "\n",
    "print(direct) \n",
    "print() \n",
    "\n",
    "print('Is a equilateral triangle?') \n",
    "equilateral_triangle = dAB == dBC and dAB == dAC\n",
    "print(equilateral_triangle) \n",
    "print() \n",
    "\n",
    "print('Is a isosceles triangle?')\n",
    "isosceles_triangle = (dAB == dBC != dAC and not direct)  or (dAB == dAC != dBC and not direct) or (dBC == dAC != dAB and not direct) \n",
    "print(isosceles_triangle) \n",
    "print()\n",
    "\n",
    "print('Is a right triangle?')\n",
    "right_triangle = math.sqrt(dAB**2 + dAC**2) == dBC or math.sqrt(dAB**2 + dBC**2) == dAC or math.sqrt(dBC**2 + dAC**2) == dAB\n",
    "print(right_triangle)\n",
    "print()\n",
    "\n",
    "\n",
    "print('Is a normal triangle?') \n",
    "normal_triangle = dAB != dBC and dBC != dAC and dAB != dAC\n",
    "print(normal_triangle) \n"
   ]
  }
 ],
 "metadata": {
  "kernelspec": {
   "display_name": "Python 3 (ipykernel)",
   "language": "python",
   "name": "python3"
  },
  "language_info": {
   "codemirror_mode": {
    "name": "ipython",
    "version": 3
   },
   "file_extension": ".py",
   "mimetype": "text/x-python",
   "name": "python",
   "nbconvert_exporter": "python",
   "pygments_lexer": "ipython3",
   "version": "3.9.7"
  }
 },
 "nbformat": 4,
 "nbformat_minor": 5
}
