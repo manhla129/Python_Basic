{
 "cells": [
  {
   "cell_type": "code",
   "execution_count": 7,
   "id": "f5875665",
   "metadata": {},
   "outputs": [
    {
     "name": "stdout",
     "output_type": "stream",
     "text": [
      "Nhập n: 10\n"
     ]
    }
   ],
   "source": [
    "#1 vẽ n ngôi sao\n",
    "import turtle\n",
    "tl = turtle.Turtle()\n",
    "tl.shape('turtle')\n",
    "\n",
    "n = int(input('Nhập n: '))\n",
    "tl.penup()\n",
    "tl.backward(30*n)\n",
    "tl.pendown()\n",
    "\n",
    "for i in range(n):\n",
    "    tl.fillcolor('yellow')\n",
    "    tl.begin_fill()\n",
    "    for j in range(5):\n",
    "        tl.forward(50)\n",
    "        tl.right(144)\n",
    "    tl.end_fill()\n",
    "    tl.penup()\n",
    "    tl.forward(60)\n",
    "    tl.pendown()\n",
    "\n",
    "turtle.done()"
   ]
  },
  {
   "cell_type": "code",
   "execution_count": 6,
   "id": "08073cde",
   "metadata": {},
   "outputs": [
    {
     "name": "stdout",
     "output_type": "stream",
     "text": [
      "['nguyen', 'thi', 'phuơng', 'thao']\n",
      "Nguyen Thi Phuơng Thao\n"
     ]
    }
   ],
   "source": [
    "#2 Chuyển tên sang không dấu\n",
    "text = ' nGuyễN  thỊ   pHưƠng   tHảO     '.lower().strip()\n",
    "text2 =''\n",
    "for i in text:\n",
    "    if i in 'aáàảãạâấầẩẫậăắằẳẵạ':\n",
    "        i = 'a'\n",
    "    elif i in 'iíìỉĩị':\n",
    "        i = 'i'\n",
    "    elif i in 'eéèẻẽẹêếềểễệ':\n",
    "        i = 'e'\n",
    "    elif i in 'uúùủũụưứừửữự':\n",
    "        i = 'u'\n",
    "    else:\n",
    "        i = i\n",
    "    text2 += i\n",
    "text2 = text2.split()\n",
    "print(text2)\n",
    "fullname = ''\n",
    "for i in text2:\n",
    "    i = i[0].upper() + i[1:]\n",
    "    fullname += i + ' '\n",
    "fullname = fullname.strip()\n",
    "print(fullname)"
   ]
  }
 ],
 "metadata": {
  "kernelspec": {
   "display_name": "Python 3 (ipykernel)",
   "language": "python",
   "name": "python3"
  },
  "language_info": {
   "codemirror_mode": {
    "name": "ipython",
    "version": 3
   },
   "file_extension": ".py",
   "mimetype": "text/x-python",
   "name": "python",
   "nbconvert_exporter": "python",
   "pygments_lexer": "ipython3",
   "version": "3.9.7"
  }
 },
 "nbformat": 4,
 "nbformat_minor": 5
}
