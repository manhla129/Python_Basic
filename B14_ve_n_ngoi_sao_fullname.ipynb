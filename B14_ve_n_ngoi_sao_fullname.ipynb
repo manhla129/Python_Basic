{
 "cells": [
  {
   "cell_type": "code",
   "execution_count": 7,
   "id": "f5875665",
   "metadata": {},
   "outputs": [
    {
     "name": "stdout",
     "output_type": "stream",
     "text": [
      "Nhập n: 10\n"
     ]
    }
   ],
   "source": [
    "#1 vẽ n ngôi sao\n",
    "import turtle\n",
    "tl = turtle.Turtle()\n",
    "tl.shape('turtle')\n",
    "\n",
    "n = int(input('Nhập n: '))\n",
    "tl.penup()\n",
    "tl.backward(30*n)\n",
    "tl.pendown()\n",
    "\n",
    "for i in range(n):\n",
    "    tl.fillcolor('yellow')\n",
    "    tl.begin_fill()\n",
    "    for j in range(5):\n",
    "        tl.forward(50)\n",
    "        tl.right(144)\n",
    "    tl.end_fill()\n",
    "    tl.penup()\n",
    "    tl.forward(60)\n",
    "    tl.pendown()\n",
    "\n",
    "turtle.done()"
   ]
  },
  {
   "cell_type": "code",
   "execution_count": 5,
   "id": "08073cde",
   "metadata": {},
   "outputs": [
    {
     "name": "stdout",
     "output_type": "stream",
     "text": [
      "Dao Thi Phuong Thao\n"
     ]
    }
   ],
   "source": [
    "#2 Chuyển tên sang không dấu\n",
    "text = ' Đào  thỊ   pHưƠng   tHảO     '.lower().strip()\n",
    "text2 =''\n",
    "for i in text:\n",
    "    if i in 'áàảãạâấầẩẫậăắằẳẵạ':\n",
    "        i = 'a'\n",
    "    elif i in 'íìỉĩị':\n",
    "        i = 'i'\n",
    "    elif i in 'éèẻẽẹêếềểễệ':\n",
    "        i = 'e'\n",
    "    elif i in 'úùủũụưứừửữự':\n",
    "        i = 'u'\n",
    "    elif i in 'óòỏõọơớờởỡợôốồổỗộ':\n",
    "        i = 'o'\n",
    "    elif i in 'đ':\n",
    "        i = 'd'\n",
    "    text2 += i\n",
    "text2 = text2.split()\n",
    "fullname = ''\n",
    "for i in text2:\n",
    "    i = i[0].upper() + i[1:]\n",
    "    fullname += i + ' '\n",
    "fullname = fullname.strip()\n",
    "print(fullname)"
   ]
  }
 ],
 "metadata": {
  "kernelspec": {
   "display_name": "Python 3 (ipykernel)",
   "language": "python",
   "name": "python3"
  },
  "language_info": {
   "codemirror_mode": {
    "name": "ipython",
    "version": 3
   },
   "file_extension": ".py",
   "mimetype": "text/x-python",
   "name": "python",
   "nbconvert_exporter": "python",
   "pygments_lexer": "ipython3",
   "version": "3.9.7"
  }
 },
 "nbformat": 4,
 "nbformat_minor": 5
}
