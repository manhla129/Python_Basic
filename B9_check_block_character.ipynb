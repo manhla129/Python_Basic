{
 "cells": [
  {
   "cell_type": "code",
   "execution_count": 5,
   "id": "a3f90a1c",
   "metadata": {},
   "outputs": [
    {
     "name": "stdout",
     "output_type": "stream",
     "text": [
      "Post: \n",
      " \"     sex in the morning.   \n",
      " Please go out child abuse.\n",
      "   Put your hand racist up          \"\n",
      "\n",
      "Post có bị block không? True\n"
     ]
    }
   ],
   "source": [
    "text = \"\"\"    sex in the morning.   \n",
    " Please go out child abuse.\n",
    "   Put your hand racist up         \"\"\"\n",
    "print(\"Post: \\n\", '\"',text,'\"')\n",
    "print()\n",
    "text = text.lower()\n",
    "text = text.split('.')\n",
    "\n",
    "text0 = text[0].strip()\n",
    "text1 = text[1].strip()\n",
    "text2 = text[2].strip()\n",
    "\n",
    "check_text0 = 'sex' in text0 or 'racist' in text0 or 'violence' in text0 or 'child abuse' in text0\n",
    "check_text1 = 'sex' in text1 or 'racist' in text1 or 'violence' in text1 or 'child abuse' in text1\n",
    "check_text2 = 'sex' in text2 or 'racist' in text2 or 'violence' in text2 or 'child abuse' in text2\n",
    "\n",
    "print('Post có bị block không?', check_text0 and check_text1 and check_text2)"
   ]
  }
 ],
 "metadata": {
  "kernelspec": {
   "display_name": "Python 3 (ipykernel)",
   "language": "python",
   "name": "python3"
  },
  "language_info": {
   "codemirror_mode": {
    "name": "ipython",
    "version": 3
   },
   "file_extension": ".py",
   "mimetype": "text/x-python",
   "name": "python",
   "nbconvert_exporter": "python",
   "pygments_lexer": "ipython3",
   "version": "3.9.7"
  }
 },
 "nbformat": 4,
 "nbformat_minor": 5
}
