{
 "cells": [
  {
   "cell_type": "code",
   "execution_count": 5,
   "id": "3d07bbc9",
   "metadata": {},
   "outputs": [
    {
     "name": "stdout",
     "output_type": "stream",
     "text": [
      "Nghiệm của phương trình là: -0.5885391235351562\n"
     ]
    }
   ],
   "source": [
    "# Tìm nghiệm gần đúng của phương trình f(x) = e^x + sin(x)\n",
    "# trong đoạn [-1,1], alpha = 0.00001\n",
    "import math\n",
    "alpha = 0.00001\n",
    "\n",
    "a = -1\n",
    "b = 1\n",
    "delta = math.fabs(b-a)\n",
    "fa = math.exp(a) + math.sin(a)\n",
    "fb = math.exp(b) + math.sin(b)\n",
    "if fa*fb>0:\n",
    "    print(f'Phương trình không có nghiệm trong khoảng {a}, {b}')\n",
    "else:\n",
    "    while delta > alpha:\n",
    "        c = (a+b)/2\n",
    "        fc = math.exp(c) + math.sin(c)\n",
    "        fa = math.exp(a) + math.sin(a)\n",
    "        fb = math.exp(b) + math.sin(b)\n",
    "        if fa*fc < 0:\n",
    "            a = a\n",
    "            b = c\n",
    "        if fc*fb < 0:\n",
    "            a = c\n",
    "            b = b\n",
    "        delta = math.fabs(b-a)\n",
    "    print(f'Nghiệm của phương trình là: {c}')\n"
   ]
  },
  {
   "cell_type": "code",
   "execution_count": null,
   "id": "ae4725df",
   "metadata": {},
   "outputs": [],
   "source": []
  },
  {
   "cell_type": "code",
   "execution_count": 1,
   "id": "fcba9cbb",
   "metadata": {
    "scrolled": false
   },
   "outputs": [
    {
     "name": "stdout",
     "output_type": "stream",
     "text": [
      "m = 3\n",
      "n = 5\n",
      "3*1=3\t4*1=4\t5*1=5\t\n",
      "3*2=6\t4*2=8\t5*2=10\t\n",
      "3*3=9\t4*3=12\t5*3=15\t\n",
      "3*4=12\t4*4=16\t5*4=20\t\n",
      "3*5=15\t4*5=20\t5*5=25\t\n",
      "3*6=18\t4*6=24\t5*6=30\t\n",
      "3*7=21\t4*7=28\t5*7=35\t\n",
      "3*8=24\t4*8=32\t5*8=40\t\n",
      "3*9=27\t4*9=36\t5*9=45\t\n"
     ]
    }
   ],
   "source": [
    "### Bảng cửu chương nằm ngang\n",
    "m = int(input('m = '))\n",
    "n = int(input('n = '))\n",
    "for j in range(1,10):\n",
    "    for i in range(m,n+1):\n",
    "        print('{0}*{1}={2}'.format(i,j,i*j),end='\\t')\n",
    "    print()"
   ]
  },
  {
   "cell_type": "code",
   "execution_count": null,
   "id": "f09cd1eb",
   "metadata": {},
   "outputs": [],
   "source": []
  }
 ],
 "metadata": {
  "kernelspec": {
   "display_name": "Python 3 (ipykernel)",
   "language": "python",
   "name": "python3"
  },
  "language_info": {
   "codemirror_mode": {
    "name": "ipython",
    "version": 3
   },
   "file_extension": ".py",
   "mimetype": "text/x-python",
   "name": "python",
   "nbconvert_exporter": "python",
   "pygments_lexer": "ipython3",
   "version": "3.9.7"
  }
 },
 "nbformat": 4,
 "nbformat_minor": 5
}
