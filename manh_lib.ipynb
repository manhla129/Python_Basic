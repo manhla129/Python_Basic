{
 "cells": [
  {
   "cell_type": "code",
   "execution_count": 1,
   "id": "4fd731de",
   "metadata": {
    "scrolled": true
   },
   "outputs": [
    {
     "name": "stdout",
     "output_type": "stream",
     "text": [
      "Is direct?\n",
      "False\n",
      "\n",
      "Is a equilateral triangle?\n",
      "False\n",
      "\n",
      "Is a isosceles triangle?\n",
      "True\n",
      "\n",
      "Is a right triangle?\n",
      "True\n",
      "\n",
      "Is a normal triangle?\n",
      "False\n"
     ]
    }
   ],
   "source": [
    "def triangle_check(xA,yA,xB,yB,xC,yC):\n",
    "    '''Hàm kiểm tra 3 điểm tạo thành tam giác không? là loại tam giác nào\n",
    "    Đầu vào là tọa độ x,y của 3 điểm A, B, C\n",
    "    tương ứng: xA,yA,xB,yB,xC,yC'''\n",
    "    import math\n",
    "    \n",
    "    dAB = math.sqrt((xB-xA)**2 + (yB-yA)**2)\n",
    "    dBC = math.sqrt((xC-xB)**2 + (yC-yB)**2)\n",
    "    dAC = math.sqrt((xC-xA)**2 + (yC-yA)**2)\n",
    "\n",
    "    print('Is direct?')\n",
    "    direct = dAC == dAB + dBC or dBC == dAC + dAB or dAB == dBC + dAC\n",
    "\n",
    "    print(direct) \n",
    "    print() \n",
    "\n",
    "    print('Is a equilateral triangle?') \n",
    "    equilateral_triangle = dAB == dBC and dAB == dAC\n",
    "    print(equilateral_triangle) \n",
    "    print() \n",
    "\n",
    "    print('Is a isosceles triangle?')\n",
    "    isosceles_triangle = (dAB == dBC != dAC and not direct)  or (dAB == dAC != dBC and not direct) or (dBC == dAC != dAB and not direct) \n",
    "    print(isosceles_triangle) \n",
    "    print()\n",
    "\n",
    "    print('Is a right triangle?')\n",
    "    right_triangle = math.sqrt(dAB**2 + dAC**2) == dBC or math.sqrt(dAB**2 + dBC**2) == dAC or math.sqrt(dBC**2 + dAC**2) == dAB\n",
    "    print(right_triangle)\n",
    "    print()\n",
    "\n",
    "\n",
    "    print('Is a normal triangle?') \n",
    "    normal_triangle = dAB != dBC and dBC != dAC and dAB != dAC\n",
    "    print(normal_triangle)"
   ]
  },
  {
   "cell_type": "code",
   "execution_count": 3,
   "id": "6a72477a",
   "metadata": {},
   "outputs": [
    {
     "data": {
      "text/plain": [
       "False"
      ]
     },
     "execution_count": 3,
     "metadata": {},
     "output_type": "execute_result"
    }
   ],
   "source": [
    "def check_block_char(text):\n",
    "    '''Kiểm tra xem post có bị block không\n",
    "    post gồm 3 câu, ngăn cách bởi dấu \".\"\n",
    "    post bị block nếu tất cả các câu trong chuỗi chứa kí tự cấm'''\n",
    "    text = text.lower().strip().split('.')\n",
    "    text0 = text[0].strip()\n",
    "    text1 = text[1].strip()\n",
    "    text2 = text[2].strip()\n",
    "\n",
    "    check_text0 = 'sex' in text0 or 'racist' in text0 or 'violence' in text0 or 'child abuse' in text0\n",
    "    check_text1 = 'sex' in text1 or 'racist' in text1 or 'violence' in text1 or 'child abuse' in text1\n",
    "    check_text2 = 'sex' in text2 or 'racist' in text2 or 'violence' in text2 or 'child abuse' in text2\n",
    "    \n",
    "    return check_text0 and check_text1 and check_text2\n"
   ]
  },
  {
   "cell_type": "code",
   "execution_count": 33,
   "id": "3d50fa47",
   "metadata": {},
   "outputs": [
    {
     "data": {
      "text/plain": [
       "True"
      ]
     },
     "execution_count": 33,
     "metadata": {},
     "output_type": "execute_result"
    }
   ],
   "source": [
    "def pitago_check(a,b,c):\n",
    "    '''Kiểm tra xem 3 số tự nhiên a, b, c có tạo thành 1 bộ số\n",
    "    pitago hay không'''\n",
    "    if a**2 + b**2 == c**2 or a**2 + c**2 == b**2 or b**2 + c**2 == a**2:\n",
    "        return True\n",
    "    else:\n",
    "        return False\n",
    "pitago_check(3,4,5)    "
   ]
  },
  {
   "cell_type": "code",
   "execution_count": 32,
   "id": "0a2742b7",
   "metadata": {},
   "outputs": [
    {
     "data": {
      "text/plain": [
       "75800"
      ]
     },
     "execution_count": 32,
     "metadata": {},
     "output_type": "execute_result"
    }
   ],
   "source": [
    "def phone_fee(n):\n",
    "    '''Tính cước phí điện thoại khi sử dụng n phút\n",
    "    Cước thuê bao: 25000\n",
    "    n<=50: 600/p\n",
    "    50<n<=200: 400/p\n",
    "    n>200: 200/p'''\n",
    "    if n < 0:\n",
    "        print(\"Số phút nhập không đúng\")\n",
    "    else:\n",
    "        if n <= 50:\n",
    "            total = 25000 + 600*n\n",
    "        elif n <=200:\n",
    "            total = 25000 + 600*50 + 400*(n-50) \n",
    "        else:\n",
    "            total = 25000 + 600*50 + 400*150 + 200*(n-50-150)\n",
    "    return total\n",
    "phone_fee(102)"
   ]
  },
  {
   "cell_type": "code",
   "execution_count": 12,
   "id": "d1cd5a2e",
   "metadata": {},
   "outputs": [
    {
     "data": {
      "text/plain": [
       "'Thứ Ba'"
      ]
     },
     "execution_count": 12,
     "metadata": {},
     "output_type": "execute_result"
    }
   ],
   "source": [
    "def weekday_export(day,month,year):\n",
    "    '''Xuất ra thứ của ngày nhập vào\n",
    "    Thứ tự nhập: day, month, year'''\n",
    "    import datetime\n",
    "    mydate = datetime.date(year, month, day)\n",
    "    n = mydate.weekday()\n",
    "\n",
    "    if n==0:\n",
    "        return 'Thứ Hai'\n",
    "    elif n==1:\n",
    "        return 'Thứ Ba'\n",
    "    elif n==2:\n",
    "        return 'Thứ Tư'\n",
    "    elif n==3:\n",
    "        return 'Thứ Năm'\n",
    "    elif n==4:\n",
    "        return 'Thứ Sáu'\n",
    "    elif n==5:\n",
    "        return 'Thứ Bảy'\n",
    "    elif n==6:\n",
    "        return 'Chủ Nhật'\n",
    "    else:\n",
    "        return 'Số nhập không hợp lệ, hãy nhập số nguyên từ 0 đến 6' \n",
    "    \n",
    "weekday_export(5,4,2022)"
   ]
  },
  {
   "cell_type": "code",
   "execution_count": 14,
   "id": "c28144da",
   "metadata": {},
   "outputs": [
    {
     "data": {
      "text/plain": [
       "'Loại Trung Bình'"
      ]
     },
     "execution_count": 14,
     "metadata": {},
     "output_type": "execute_result"
    }
   ],
   "source": [
    "def check_score(a,b,c):\n",
    "    '''Hàm đánh giá xếp loại học lực của học viên\n",
    "    dựa trên 3 điểm đầu vào a, b, c tương ứng\n",
    "    điểm 15p, điểm giữa kì và điểm cuối kì\n",
    "    đầu vào: 0<=a,b,c<=10'''\n",
    "    if a < 0 or a>10 or b<0 or b>10 or c<0 or c>10:\n",
    "        return \"Lỗi nhập dữ liệu\"\n",
    "    else:\n",
    "        dtb = (a + b*1.5 + c*2)/4.5\n",
    "        if dtb>=8:\n",
    "            return \"Loại Giỏi\"\n",
    "        elif dtb>=6.5:\n",
    "            return \"Loại Khá\"\n",
    "        elif dtb>=5:\n",
    "            return \"Loại Trung Bình\"\n",
    "        else:\n",
    "            return \"Loại Yếu\"\n",
    "\n",
    "check_score(5,6,7)"
   ]
  },
  {
   "cell_type": "code",
   "execution_count": 18,
   "id": "9ac5bb54",
   "metadata": {},
   "outputs": [
    {
     "name": "stdout",
     "output_type": "stream",
     "text": [
      "-x^2 - x - 1\n",
      "0\n"
     ]
    }
   ],
   "source": [
    "def ptb2_format(a,b,c):\n",
    "    '''Xuất ra dạng chuẩn của phương trình bậc 2\n",
    "    dựa vào tham số a, b, c'''\n",
    "    if a ==0:\n",
    "        if b==0:\n",
    "            print(c) \n",
    "        else:\n",
    "            if b==1:\n",
    "                b=''\n",
    "            elif b==-1:\n",
    "                b = '-'\n",
    "            if c ==0:\n",
    "                print('{0}x'.format(b) ) \n",
    "            elif c>0:\n",
    "                print('{0}x + {1}'.format(b, c)) \n",
    "            else:\n",
    "                print('{0}x - {1}'.format(b, -c)) \n",
    "    else:\n",
    "        if a==1:\n",
    "            a=''\n",
    "        elif a==-1:\n",
    "            a='-'\n",
    "        if b == 0:\n",
    "            if c == 0:\n",
    "                print('{0}x^2'.format(a)) \n",
    "            elif c>0:\n",
    "                print('{0}x^2 + {1}'.format(a,c))\n",
    "            else:\n",
    "                print('{0}x^2 - {1}'.format(a,-c))\n",
    "        else:\n",
    "            if b== 1:\n",
    "                if c ==0:\n",
    "                    print('{0}x^2 + x'. format(a))\n",
    "                elif c>0:\n",
    "                    print('{0}x^2 + x + {1}'.format(a,c))\n",
    "                else:\n",
    "                    print('{0}x^2 + x - {1}'.format(a,-c))\n",
    "            elif b== -1:\n",
    "                if c ==0:\n",
    "                    print('{0}x^2 - x'. format(a))\n",
    "                elif c>0:\n",
    "                    print('{0}x^2 - x + {1}'.format(a,c))\n",
    "                else:\n",
    "                    print('{0}x^2 - x - {1}'.format(a,-c))\n",
    "            elif b < -1:\n",
    "                if c ==0:\n",
    "                    print('{0}x^2 - {1}x'. format(a,-b))\n",
    "                elif c>0:\n",
    "                    print('{0}x^2 - {1}x + {2}'.format(a,-b,c))\n",
    "                else:\n",
    "                    print('{0}x^2 - {1}x - {2}'.format(a,-b,-c))\n",
    "            else:\n",
    "                if c ==0:\n",
    "                    print('{0}x^2 + {1}x'. format(a,b))\n",
    "                elif c>0:\n",
    "                    print('{0}x^2 + {1}x + {2}'.format(a,b,c))\n",
    "                else:\n",
    "                    print('{0}x^2 + {1}x - {2}'.format(a,b,-c))\n",
    "ptb2_format(-1,-1,-1)\n",
    "ptb2_format(0,0,0)"
   ]
  },
  {
   "cell_type": "code",
   "execution_count": 31,
   "id": "afab562d",
   "metadata": {},
   "outputs": [
    {
     "data": {
      "text/plain": [
       "'Nguyễn Thị Phương Thảo'"
      ]
     },
     "execution_count": 31,
     "metadata": {},
     "output_type": "execute_result"
    }
   ],
   "source": [
    "def full_name(hoten):\n",
    "    '''Xuất ra định dạng tiêu chuẩn của họ tên 1 người\n",
    "    Ví dụ:  In: '     NguYễn   ThỊ phƯơnG    tHảO         '\n",
    "            Out: 'Nguyễn Thị Phương Thảo' '''\n",
    "    hoten = hoten.strip().lower().split()\n",
    "    fullname = ''\n",
    "\n",
    "    for i in hoten:\n",
    "        i = i[0].upper() + i[1:]\n",
    "        fullname += i + ' '\n",
    "\n",
    "    return fullname.strip()\n",
    "\n",
    "full_name('     NguYễn   ThỊ phƯơnG    tHảO         ')"
   ]
  },
  {
   "cell_type": "code",
   "execution_count": 22,
   "id": "484fe695",
   "metadata": {},
   "outputs": [
    {
     "data": {
      "text/plain": [
       "'Mã vạch SAI'"
      ]
     },
     "execution_count": 22,
     "metadata": {},
     "output_type": "execute_result"
    }
   ],
   "source": [
    "def check_code(code):\n",
    "    '''Kiểm tra 1 mã vạch có đúng hay không\n",
    "    Đầu vào là 1 chuỗi 13 số liền nhau\n",
    "    Điều kiện: ....'''\n",
    "    C = int(code[12])\n",
    "    i = 0\n",
    "    A, B = 0, 0\n",
    "    while i<12:\n",
    "        if i%2 == 0:\n",
    "            A += int(code[i])\n",
    "        else:\n",
    "            B += int(code[i])\n",
    "        i += 1\n",
    "    D = A + 3*B\n",
    "    if D%10 != 0:\n",
    "        F = 10 - (D%10)\n",
    "    else:\n",
    "        F = 0\n",
    "    if F == C:\n",
    "        return 'Mã vạch ĐÚNG'\n",
    "    else:\n",
    "        return 'Mã vạch SAI'\n",
    "    \n",
    "check_code('4902778120973')\n"
   ]
  },
  {
   "cell_type": "code",
   "execution_count": 25,
   "id": "77eac397",
   "metadata": {},
   "outputs": [
    {
     "name": "stdout",
     "output_type": "stream",
     "text": [
      "85210\n"
     ]
    }
   ],
   "source": [
    "def max_range_decre(text):\n",
    "    '''In ra chuỗi số giảm dần dài nhất\n",
    "    Đầu vào là 1 chuỗi các số liền nhau\n",
    "    '''\n",
    "    i = 0\n",
    "    chuoi = ''\n",
    "    while i < len(text)-1:\n",
    "        if int(text[i]) < int(text[i+1]):\n",
    "            chuoi += text[i] +'-'\n",
    "        else:\n",
    "            chuoi += text[i]\n",
    "        i += 1\n",
    "    if chuoi[-1] == '-':\n",
    "        chuoi = chuoi\n",
    "    else:\n",
    "        if int(chuoi[-1]) > int(text[-1]):\n",
    "            chuoi += text[-1]\n",
    "    chuoi = chuoi.split('-')\n",
    "    max = 0\n",
    "    for i in chuoi:\n",
    "        if len(i) >=max:\n",
    "            max = len(i)        \n",
    "    for i in chuoi:\n",
    "        if len(i) == max:\n",
    "            print(i)\n",
    "            \n",
    "            \n",
    "max_range_decre('85210374823643282')"
   ]
  },
  {
   "cell_type": "code",
   "execution_count": 27,
   "id": "9ea55ee4",
   "metadata": {},
   "outputs": [
    {
     "name": "stdout",
     "output_type": "stream",
     "text": [
      "P không thuộc vùng D\n"
     ]
    }
   ],
   "source": [
    "def check_point_in_area(x,y):\n",
    "    '''Hàm kiểm tra xem điểm P(x,y) có nằm trong vùng D không\n",
    "    vùng D giới hạn bởi nửa đường tròng tâm 0,0 bán kính 2 về phí trục x âm\n",
    "    và 2 đoạn thẳng đi qua các điểm:\n",
    "    đoạn thẳng 1 đi qua: 0,2 & 6,0\n",
    "    đoạn thẳng 2 đi qua: 0,-2 & 6,0 '''\n",
    "    if x < -2 or x > 6 or y < -2 or y > 2:\n",
    "        print('P không thuộc vùng D')\n",
    "    elif x >= -2 and x <=0:\n",
    "        d = (x**2 + y**2)**0.5\n",
    "        if d <=2:\n",
    "            print('P thuộc vùng D')\n",
    "        else:\n",
    "            print('P không thuộc vùng D')\n",
    "    else:\n",
    "        ptd1 = x/3 + y - 2\n",
    "        ptd2 = -x/3 + y + 2\n",
    "        if ptd1<=0 and ptd2 >=0:\n",
    "            print('P thuộc vùng D')\n",
    "        else:\n",
    "            print('P không thuộc vùng D')\n",
    "check_point_in_area(-1,-2)            "
   ]
  },
  {
   "cell_type": "code",
   "execution_count": 28,
   "id": "a4885a73",
   "metadata": {
    "scrolled": true
   },
   "outputs": [
    {
     "name": "stdout",
     "output_type": "stream",
     "text": [
      "\n",
      "   *        *        *     \n",
      "\n",
      "  ***      ***      ***    \n",
      "\n",
      " *****    *****    *****   \n",
      "\n",
      "*******  *******  *******  \n",
      "\n",
      " *****    *****    *****   \n",
      "\n",
      "  ***      ***      ***    \n",
      "\n",
      "   *        *        *     \n"
     ]
    }
   ],
   "source": [
    "def draw_star(n,m):\n",
    "    '''Hàm vẽ m hình thoi gồm các kí tự *\n",
    "    n: số kí tự * ở dòng trung tâm hình thoi'''\n",
    "    if n%2==0:\n",
    "        n-=1\n",
    "    for i in range(2*n):\n",
    "        if i <= n:\n",
    "            if i%2!=0:\n",
    "                print((' '*int((n-i)/2) + '*'*i+ ' '*int((n-i+4)/2))*m)\n",
    "            else:\n",
    "                print()\n",
    "        else:\n",
    "            if i%2!=0:\n",
    "                print((' '*int((i-n)/2)+'*'*(2*n-i)+' '*int((i-n+4)/2))*m)\n",
    "            else:\n",
    "                print()\n",
    "draw_star(7,3)             "
   ]
  },
  {
   "cell_type": "code",
   "execution_count": 29,
   "id": "40d23dee",
   "metadata": {},
   "outputs": [
    {
     "data": {
      "text/plain": [
       "-0.5885391235351562"
      ]
     },
     "execution_count": 29,
     "metadata": {},
     "output_type": "execute_result"
    }
   ],
   "source": [
    "def nghiem_gan_dung(a,b,alpha):\n",
    "    '''Tìm nghiệm gần đúng của phương trình f(x)=e^x + sin(x)\n",
    "    trong đoạn [a,b] với sai số alpha'''\n",
    "    import math\n",
    "    delta = math.fabs(b-a)\n",
    "    fa = math.exp(a) + math.sin(a)\n",
    "    fb = math.exp(b) + math.sin(b)\n",
    "    if fa*fb>0:\n",
    "        return 'Phương trình không có nghiệm trong đoạn này'\n",
    "    else:\n",
    "        while delta > alpha:\n",
    "            c = (a+b)/2\n",
    "            fc = math.exp(c) + math.sin(c)\n",
    "            fa = math.exp(a) + math.sin(a)\n",
    "            fb = math.exp(b) + math.sin(b)\n",
    "            if fa*fc < 0:\n",
    "                b = c\n",
    "            if fc*fb < 0:\n",
    "                a = c\n",
    "            delta = math.fabs(b-a)\n",
    "        return c\n",
    "\n",
    "nghiem_gan_dung(-1,1,0.00001)        "
   ]
  },
  {
   "cell_type": "code",
   "execution_count": 30,
   "id": "d919d22e",
   "metadata": {
    "scrolled": false
   },
   "outputs": [
    {
     "name": "stdout",
     "output_type": "stream",
     "text": [
      "3*1=3\t4*1=4\t5*1=5\t6*1=6\t\n",
      "3*2=6\t4*2=8\t5*2=10\t6*2=12\t\n",
      "3*3=9\t4*3=12\t5*3=15\t6*3=18\t\n",
      "3*4=12\t4*4=16\t5*4=20\t6*4=24\t\n",
      "3*5=15\t4*5=20\t5*5=25\t6*5=30\t\n",
      "3*6=18\t4*6=24\t5*6=30\t6*6=36\t\n",
      "3*7=21\t4*7=28\t5*7=35\t6*7=42\t\n",
      "3*8=24\t4*8=32\t5*8=40\t6*8=48\t\n",
      "3*9=27\t4*9=36\t5*9=45\t6*9=54\t\n"
     ]
    }
   ],
   "source": [
    "def bang_cuu_chuong_nam_ngang(m,n):\n",
    "    '''Hàm in ra bảng cửu chương nằm ngang của các số từ m đến n'''\n",
    "    for j in range(1,10):\n",
    "        for i in range(m,n+1):\n",
    "            print('{0}*{1}={2}'.format(i,j,i*j),end='\\t')\n",
    "        print()\n",
    "bang_cuu_chuong_nam_ngang(3,6)        "
   ]
  },
  {
   "cell_type": "code",
   "execution_count": 34,
   "id": "a4e1aa7b",
   "metadata": {},
   "outputs": [
    {
     "data": {
      "text/plain": [
       "184"
      ]
     },
     "execution_count": 34,
     "metadata": {},
     "output_type": "execute_result"
    }
   ],
   "source": [
    "def money(a,b,c,total):\n",
    "    '''Hàm đếm số cách cộng tiền các mệnh giá a, b, c\n",
    "    sao cho tổng bằng total'''\n",
    "    step = 0\n",
    "    for i in range(total//a + 1):\n",
    "        for j in range(total//b + 1):\n",
    "            for k in range(total//c + 1):\n",
    "                if i*a + j*b + k*c==total:\n",
    "                    step+=1\n",
    "    return step  \n",
    "\n",
    "money(2,3,5,100)"
   ]
  },
  {
   "cell_type": "code",
   "execution_count": 35,
   "id": "ec085695",
   "metadata": {},
   "outputs": [],
   "source": [
    "def draw_n_star(n):\n",
    "    '''Hàm vẽ ra n ngôi sao và tô màu cho chúng trong turtle'''\n",
    "    import turtle\n",
    "    tl = turtle.Turtle()\n",
    "    tl.shape('turtle')\n",
    "    tl.speed(20)\n",
    "    tl.penup()\n",
    "    tl.backward(30*n)\n",
    "    tl.pendown()\n",
    "\n",
    "    for i in range(n):\n",
    "        tl.fillcolor('yellow')\n",
    "        tl.begin_fill()\n",
    "        for j in range(5):\n",
    "            tl.forward(50)\n",
    "            tl.right(144)\n",
    "        tl.end_fill()\n",
    "        tl.penup()\n",
    "        tl.forward(60)\n",
    "        tl.pendown()\n",
    "\n",
    "    turtle.done()\n",
    "\n",
    "draw_n_star(5)"
   ]
  },
  {
   "cell_type": "code",
   "execution_count": 37,
   "id": "f5bccc77",
   "metadata": {},
   "outputs": [
    {
     "data": {
      "text/plain": [
       "'Dao Thi Phuong Thao'"
      ]
     },
     "execution_count": 37,
     "metadata": {},
     "output_type": "execute_result"
    }
   ],
   "source": [
    "def fullname_en(text):\n",
    "    '''Hàm chuyển đổi tiếng việt thành tiếng việt không dấu'''\n",
    "    text = text.lower().strip()\n",
    "    text2 =''\n",
    "    for i in text:\n",
    "        if i in 'áàảãạâấầẩẫậăắằẳẵạ':\n",
    "            i = 'a'\n",
    "        elif i in 'íìỉĩị':\n",
    "            i = 'i'\n",
    "        elif i in 'éèẻẽẹêếềểễệ':\n",
    "            i = 'e'\n",
    "        elif i in 'úùủũụưứừửữự':\n",
    "            i = 'u'\n",
    "        elif i in 'óòỏõọơớờởỡợôốồổỗộ':\n",
    "            i = 'o'\n",
    "        elif i in 'đ':\n",
    "            i = 'd'\n",
    "        text2 += i\n",
    "    text2 = text2.split()\n",
    "    fullname = ''\n",
    "    for i in text2:\n",
    "        i = i[0].upper() + i[1:]\n",
    "        fullname += i + ' '\n",
    "    return fullname.strip()   \n",
    "fullname_en(' Đào  thỊ   pHưƠng   tHảO     ')"
   ]
  }
 ],
 "metadata": {
  "kernelspec": {
   "display_name": "Python 3 (ipykernel)",
   "language": "python",
   "name": "python3"
  },
  "language_info": {
   "codemirror_mode": {
    "name": "ipython",
    "version": 3
   },
   "file_extension": ".py",
   "mimetype": "text/x-python",
   "name": "python",
   "nbconvert_exporter": "python",
   "pygments_lexer": "ipython3",
   "version": "3.9.7"
  }
 },
 "nbformat": 4,
 "nbformat_minor": 5
}
