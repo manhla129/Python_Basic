{
 "cells": [
  {
   "cell_type": "code",
   "execution_count": 11,
   "id": "d22d078f",
   "metadata": {
    "scrolled": true
   },
   "outputs": [
    {
     "name": "stdout",
     "output_type": "stream",
     "text": [
      "     NguYễn   ThỊ phƯơnG    tHảO         \n",
      "Nguyễn Thị Phương Thảo\n"
     ]
    }
   ],
   "source": [
    "# Xuất họ tên theo định dạng tiêu chuẩn\n",
    "hoten = '     NguYễn   ThỊ phƯơnG    tHảO         '\n",
    "print(hoten) \n",
    "\n",
    "hoten = hoten.strip().lower().split()\n",
    "fullname = ''\n",
    "\n",
    "for i in hoten:\n",
    "    i = i[0].upper() + i[1:]\n",
    "    fullname += i + ' '\n",
    "    \n",
    "print(fullname.strip())"
   ]
  },
  {
   "cell_type": "code",
   "execution_count": 4,
   "id": "04d49b67",
   "metadata": {},
   "outputs": [
    {
     "name": "stdout",
     "output_type": "stream",
     "text": [
      "Mã vạch ĐÚNG\n"
     ]
    }
   ],
   "source": [
    "# Check mã code đúng hay sai\n",
    "code = '4902778120972'\n",
    "\n",
    "C = int(code[12])\n",
    "\n",
    "i = 0\n",
    "A, B = 0, 0\n",
    "while i<12:\n",
    "    if i%2 == 0:\n",
    "        A += int(code[i])\n",
    "    else:\n",
    "        B += int(code[i])\n",
    "    i += 1\n",
    "\n",
    "D = A + 3*B\n",
    "if D%10 != 0:\n",
    "    F = 10 - (D%10)\n",
    "else:\n",
    "    F = 0\n",
    "\n",
    "if F == C:\n",
    "    print('Mã vạch ĐÚNG')\n",
    "else:\n",
    "    print('Mã vạch SAI')\n"
   ]
  },
  {
   "cell_type": "code",
   "execution_count": null,
   "id": "acbbff6d",
   "metadata": {},
   "outputs": [],
   "source": []
  }
 ],
 "metadata": {
  "kernelspec": {
   "display_name": "Python 3 (ipykernel)",
   "language": "python",
   "name": "python3"
  },
  "language_info": {
   "codemirror_mode": {
    "name": "ipython",
    "version": 3
   },
   "file_extension": ".py",
   "mimetype": "text/x-python",
   "name": "python",
   "nbconvert_exporter": "python",
   "pygments_lexer": "ipython3",
   "version": "3.9.7"
  }
 },
 "nbformat": 4,
 "nbformat_minor": 5
}
