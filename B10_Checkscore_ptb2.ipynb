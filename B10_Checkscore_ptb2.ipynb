{
 "cells": [
  {
   "cell_type": "code",
   "execution_count": 19,
   "id": "4576a92b",
   "metadata": {
    "scrolled": true
   },
   "outputs": [
    {
     "name": "stdout",
     "output_type": "stream",
     "text": [
      "Nhập điểm 15p: 5\n",
      "Nhập điểm  giữa kì: 6\n",
      "Nhập điểm cuối kì: 7\n",
      "\n",
      "6.222222222222222\n",
      "Loại Trung Bình\n"
     ]
    }
   ],
   "source": [
    "# Xếp loại đánh giá học lực theo thang điểm\n",
    "a = float(input(\"Nhập điểm 15p: \")) \n",
    "b = float(input(\"Nhập điểm  giữa kì: \")) \n",
    "c = float(input(\"Nhập điểm cuối kì: \"))\n",
    "\n",
    "if a < 0 or a>10 or b<0 or b>10 or c<0 or c>10:\n",
    "    print(\"Lỗi nhập dữ liệu\") \n",
    "else:\n",
    "    dtb = (a + b*1.5 + c*2)/4.5\n",
    "    print()\n",
    "    print(dtb)\n",
    "    if dtb>=8:\n",
    "        print(\"Loại Giỏi\") \n",
    "    elif dtb>=6.5:\n",
    "        print(\"Loại Khá\")\n",
    "    elif dtb>=5:\n",
    "        print(\"Loại Trung Bình\")\n",
    "    else:\n",
    "        print(\"Loại Yếu\")"
   ]
  },
  {
   "cell_type": "code",
   "execution_count": 6,
   "id": "247a9887",
   "metadata": {},
   "outputs": [
    {
     "name": "stdout",
     "output_type": "stream",
     "text": [
      "nhập a: -1\n",
      "nhập b: -1\n",
      "nhập c: -1\n",
      "Phương trình bậc 2 tiêu chuẩn: \n",
      "-x^2 - x - 1\n"
     ]
    }
   ],
   "source": [
    "# Xuất định dạng ptb2 chuẩn theo tham số a,b,c nhập vào\n",
    "a = int(input(\"nhập a: \")) \n",
    "b = int(input(\"nhập b: \")) \n",
    "c = int(input(\"nhập c: \"))\n",
    "print(\"Phương trình bậc 2 tiêu chuẩn: \")\n",
    "if a ==0:\n",
    "    if b==0:\n",
    "        print(c) \n",
    "    else:\n",
    "        if b==1:\n",
    "            b=''\n",
    "        elif b==-1:\n",
    "            b = '-'\n",
    "        if c ==0:\n",
    "            print('{0}x'.format(b) ) \n",
    "        elif c>0:\n",
    "            print('{0}x + {1}'.format(b, c)) \n",
    "        else:\n",
    "            print('{0}x - {1}'.format(b, -c)) \n",
    "else:\n",
    "    if a==1:\n",
    "        a=''\n",
    "    elif a==-1:\n",
    "        a='-'\n",
    "    if b == 0:\n",
    "        if c == 0:\n",
    "            print('{0}x^2'.format(a)) \n",
    "        elif c>0:\n",
    "            print('{0}x^2 + {1}'.format(a,c))\n",
    "        else:\n",
    "            print('{0}x^2 - {1}'.format(a,-c))\n",
    "    else:\n",
    "        if b== 1:\n",
    "            if c ==0:\n",
    "                print('{0}x^2 + x'. format(a))\n",
    "            elif c>0:\n",
    "                print('{0}x^2 + x + {1}'.format(a,c))\n",
    "            else:\n",
    "                print('{0}x^2 + x - {1}'.format(a,-c))\n",
    "        elif b== -1:\n",
    "            if c ==0:\n",
    "                print('{0}x^2 - x'. format(a))\n",
    "            elif c>0:\n",
    "                print('{0}x^2 - x + {1}'.format(a,c))\n",
    "            else:\n",
    "                print('{0}x^2 - x - {1}'.format(a,-c))\n",
    "        elif b < -1:\n",
    "            if c ==0:\n",
    "                print('{0}x^2 - {1}x'. format(a,-b))\n",
    "            elif c>0:\n",
    "                print('{0}x^2 - {1}x + {2}'.format(a,-b,c))\n",
    "            else:\n",
    "                print('{0}x^2 - {1}x - {2}'.format(a,-b,-c))\n",
    "        else:\n",
    "            if c ==0:\n",
    "                print('{0}x^2 + {1}x'. format(a,b))\n",
    "            elif c>0:\n",
    "                print('{0}x^2 + {1}x + {2}'.format(a,b,c))\n",
    "            else:\n",
    "                print('{0}x^2 + {1}x - {2}'.format(a,b,-c))\n"
   ]
  }
 ],
 "metadata": {
  "kernelspec": {
   "display_name": "Python 3 (ipykernel)",
   "language": "python",
   "name": "python3"
  },
  "language_info": {
   "codemirror_mode": {
    "name": "ipython",
    "version": 3
   },
   "file_extension": ".py",
   "mimetype": "text/x-python",
   "name": "python",
   "nbconvert_exporter": "python",
   "pygments_lexer": "ipython3",
   "version": "3.9.7"
  }
 },
 "nbformat": 4,
 "nbformat_minor": 5
}
