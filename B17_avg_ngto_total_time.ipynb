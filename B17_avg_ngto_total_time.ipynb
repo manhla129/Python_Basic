{
 "cells": [
  {
   "cell_type": "code",
   "execution_count": 4,
   "id": "69e5121d-d7c3-43cb-97c5-f28143891262",
   "metadata": {},
   "outputs": [
    {
     "name": "stdin",
     "output_type": "stream",
     "text": [
      "Nhập chuỗi các số nguyên dương:  11 12 13 14 15 16 17\n"
     ]
    },
    {
     "name": "stdout",
     "output_type": "stream",
     "text": [
      "Trung bình các số nguyên tố trong chuỗi: 13.67\n"
     ]
    }
   ],
   "source": [
    "#Nhập vào 1 chuỗi chứa các số nguyên dương. Tính trung bình cộng của các số nguyên tố trong chuỗi đã cho\n",
    "\n",
    "#Xây dựng hàm kiểm tra số nguyên tố\n",
    "def ngto(num):\n",
    "    '''Hàm kiểm tra tính nguyên tố của 1 số.\n",
    "    Input: số cần kiểm tra\n",
    "    Output:\n",
    "        -True: số nguyên tố\n",
    "        -False: không phải số nguyên tố'''\n",
    "    for i in range(2, int(num/2)+1):\n",
    "        if num%i == 0:\n",
    "            return False\n",
    "    return True\n",
    "\n",
    "#Nhập dữ liệu và tính toán\n",
    "text_input = input('Nhập chuỗi các số nguyên dương: ').split()\n",
    "\n",
    "sum = 0\n",
    "count = 0\n",
    "for i in text_input:\n",
    "    if ngto(int(i)):\n",
    "        sum += int(i)\n",
    "        count += 1\n",
    "avg_ngto = round(sum/count,2)\n",
    "print(f'Trung bình các số nguyên tố trong chuỗi: {avg_ngto}')"
   ]
  },
  {
   "cell_type": "code",
   "execution_count": 3,
   "id": "f02f625f-b8ca-41cc-83f5-fbe4bd81c946",
   "metadata": {},
   "outputs": [
    {
     "name": "stdin",
     "output_type": "stream",
     "text": [
      "Nhập thời gian làm việc:  6-8, 9.5-11.5, 12.5-14, 13-18\n"
     ]
    },
    {
     "name": "stdout",
     "output_type": "stream",
     "text": [
      "Tổng giờ làm = 9.5\n"
     ]
    }
   ],
   "source": [
    "'''Tính thời gian làm việc thực tế của nhân viên.\n",
    "    - Input: 6-8, 9.5-11.5, 12.5-14, 13-18\n",
    "    - Output: 2 + 2 + 0.5 + 5 = 9.5h'''\n",
    "\n",
    "text_input = input('Nhập thời gian làm việc: ').split(',')\n",
    "text_new = []\n",
    "for i in text_input:\n",
    "    text_new += i.split('-')\n",
    "\n",
    "for i in range(len(text_new)-1):\n",
    "    if float(text_new[i]) > float(text_new[i+1]):\n",
    "        text_new[i] = text_new[i+1]\n",
    "             \n",
    "sum_time = 0\n",
    "for i in range(1,len(text_new)):\n",
    "    if int(i)%2 != 0:\n",
    "        sum_time += float(text_new[i]) - float(text_new[i-1])\n",
    "\n",
    "print('Tổng giờ làm =', sum_time)\n"
   ]
  },
  {
   "cell_type": "code",
   "execution_count": null,
   "id": "2e2aa447-7468-4b84-a123-725a6bc3131c",
   "metadata": {},
   "outputs": [],
   "source": []
  }
 ],
 "metadata": {
  "kernelspec": {
   "display_name": "Python 3 (ipykernel)",
   "language": "python",
   "name": "python3"
  },
  "language_info": {
   "codemirror_mode": {
    "name": "ipython",
    "version": 3
   },
   "file_extension": ".py",
   "mimetype": "text/x-python",
   "name": "python",
   "nbconvert_exporter": "python",
   "pygments_lexer": "ipython3",
   "version": "3.7.12"
  }
 },
 "nbformat": 4,
 "nbformat_minor": 5
}
