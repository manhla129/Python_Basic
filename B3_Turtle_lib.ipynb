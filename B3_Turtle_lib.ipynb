{
 "cells": [
  {
   "cell_type": "code",
   "execution_count": null,
   "id": "5d031b6d",
   "metadata": {},
   "outputs": [],
   "source": [
    "#Bước 1: Import module Turtle\n",
    "import turtle\n",
    "\n",
    "#Bước 2: Tạo đối tượng turtle\n",
    "tl = turtle.Turtle()\n",
    "tl.shape('turtle')\n",
    "tl.speed(2)\n",
    "tl.fillcolor('grey')\n",
    "\n",
    "#Bước 3: Điều khiển đối tượng\n",
    "tl.begin_fill()\n",
    "tl.pensize(2)\n",
    "tl.pencolor('blue')\n",
    "tl.forward(200)\n",
    "tl.pensize(4)\n",
    "tl.pencolor('yellow')\n",
    "tl.right(90)\n",
    "tl.backward(100)\n",
    "tl.pensize(6)\n",
    "tl.pencolor('red')\n",
    "tl.left(90)\n",
    "tl.backward(200)\n",
    "tl.pensize(8)\n",
    "tl.pencolor('green')\n",
    "tl.right(90)\n",
    "tl.forward(100)\n",
    "tl.end_fill()\n",
    "\n",
    "tl.fillcolor('violet')\n",
    "tl.begin_fill()\n",
    "tl.pensize(2)\n",
    "tl.pencolor('black')\n",
    "tl.penup()\n",
    "tl.forward(100)\n",
    "tl.pendown()\n",
    "tl.circle(50)\n",
    "tl.end_fill()\n",
    "\n",
    "#Bước 4: Hoàn thành vẽ\n",
    "turtle.done()"
   ]
  }
 ],
 "metadata": {
  "kernelspec": {
   "display_name": "Python 3 (ipykernel)",
   "language": "python",
   "name": "python3"
  },
  "language_info": {
   "codemirror_mode": {
    "name": "ipython",
    "version": 3
   },
   "file_extension": ".py",
   "mimetype": "text/x-python",
   "name": "python",
   "nbconvert_exporter": "python",
   "pygments_lexer": "ipython3",
   "version": "3.9.7"
  }
 },
 "nbformat": 4,
 "nbformat_minor": 5
}
