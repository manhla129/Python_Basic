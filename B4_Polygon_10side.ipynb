{
 "cells": [
  {
   "cell_type": "code",
   "execution_count": 1,
   "id": "cba1f848",
   "metadata": {},
   "outputs": [],
   "source": [
    "import turtle\n",
    "tl = turtle.Turtle()\n",
    "\n",
    "# tl.penup()\n",
    "# tl.backward(50)\n",
    "# tl.pendown()\n",
    "# tl.fillcolor('yellow')\n",
    "# tl.begin_fill()\n",
    "# tl.forward(50)\n",
    "# tl.left(36)\n",
    "# tl.forward(50)\n",
    "# tl.left(36)\n",
    "# tl.forward(50)\n",
    "# tl.left(36)\n",
    "# tl.forward(50)\n",
    "# tl.left(36)\n",
    "# tl.forward(50)\n",
    "# tl.left(36)\n",
    "# tl.forward(50)\n",
    "# tl.left(36)\n",
    "# tl.forward(50)\n",
    "# tl.left(36)\n",
    "# tl.forward(50)\n",
    "# tl.left(36)\n",
    "# tl.forward(50)\n",
    "# tl.left(36)\n",
    "# tl.forward(50)\n",
    "# tl.left(36)\n",
    "# tl.end_fill()\n",
    "tl.circle(100,360,10)\n",
    "\n",
    "turtle.done()\n",
    "\n"
   ]
  }
 ],
 "metadata": {
  "kernelspec": {
   "display_name": "Python 3 (ipykernel)",
   "language": "python",
   "name": "python3"
  },
  "language_info": {
   "codemirror_mode": {
    "name": "ipython",
    "version": 3
   },
   "file_extension": ".py",
   "mimetype": "text/x-python",
   "name": "python",
   "nbconvert_exporter": "python",
   "pygments_lexer": "ipython3",
   "version": "3.9.7"
  }
 },
 "nbformat": 4,
 "nbformat_minor": 5
}
