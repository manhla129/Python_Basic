{
 "cells": [
  {
   "cell_type": "code",
   "execution_count": 1,
   "id": "1615ca79",
   "metadata": {},
   "outputs": [],
   "source": [
    "import tkinter as tk\n",
    "\n",
    "root = tk.Tk()\n",
    "main_frame = tk.Frame(root, border=3, relief=tk.GROOVE)\n",
    "main_frame.grid()\n",
    "\n",
    "for i in range(10):\n",
    "\n",
    "    #Create Labels for numbering the rows:\n",
    "    tk.Label(main_frame, \n",
    "            text=str(i+1), \n",
    "            border=1,\n",
    "            relief=tk.GROOVE,\n",
    "            padx=20,\n",
    "            pady=20,\n",
    "            ).grid(column=0, row=i)\n",
    "\n",
    "    #Create Frames with a Label inside:\n",
    "    frame = tk.Frame(main_frame,\n",
    "        border=1,\n",
    "        relief=tk.GROOVE,\n",
    "        background=\"blue\",\n",
    "    )\n",
    "\n",
    "    frame.grid(row=0, column=i+1, rowspan=2, sticky=tk.N+tk.S)\n",
    "\n",
    "    tk.Label(frame, \n",
    "            text='Rowspan {}'.format(i+1), \n",
    "            border=1,\n",
    "            relief=tk.GROOVE,\n",
    "            padx=20,\n",
    "            pady=20,).grid()\n",
    "\n",
    "root.mainloop()"
   ]
  }
 ],
 "metadata": {
  "kernelspec": {
   "display_name": "Python 3 (ipykernel)",
   "language": "python",
   "name": "python3"
  },
  "language_info": {
   "codemirror_mode": {
    "name": "ipython",
    "version": 3
   },
   "file_extension": ".py",
   "mimetype": "text/x-python",
   "name": "python",
   "nbconvert_exporter": "python",
   "pygments_lexer": "ipython3",
   "version": "3.9.7"
  }
 },
 "nbformat": 4,
 "nbformat_minor": 5
}
