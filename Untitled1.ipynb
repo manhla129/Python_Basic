{
 "cells": [
  {
   "cell_type": "code",
   "execution_count": 1,
   "id": "1615ca79",
   "metadata": {},
   "outputs": [],
   "source": [
    "import tkinter as tk\n",
    "\n",
    "root = tk.Tk()\n",
    "main_frame = tk.Frame(root, border=3, relief=tk.GROOVE)\n",
    "main_frame.grid()\n",
    "\n",
    "for i in range(10):\n",
    "\n",
    "    #Create Labels for numbering the rows:\n",
    "    tk.Label(main_frame, \n",
    "            text=str(i+1), \n",
    "            border=1,\n",
    "            relief=tk.GROOVE,\n",
    "            padx=20,\n",
    "            pady=20,\n",
    "            ).grid(column=0, row=i)\n",
    "\n",
    "    #Create Frames with a Label inside:\n",
    "    frame = tk.Frame(main_frame,\n",
    "        border=1,\n",
    "        relief=tk.GROOVE,\n",
    "        background=\"blue\",\n",
    "    )\n",
    "\n",
    "    frame.grid(row=0, column=i+1, rowspan=2, sticky=tk.N+tk.S)\n",
    "\n",
    "    tk.Label(frame, \n",
    "            text='Rowspan {}'.format(i+1), \n",
    "            border=1,\n",
    "            relief=tk.GROOVE,\n",
    "            padx=20,\n",
    "            pady=20,).grid()\n",
    "\n",
    "root.mainloop()"
   ]
  },
  {
   "cell_type": "code",
   "execution_count": 21,
   "id": "562478ec",
   "metadata": {},
   "outputs": [
    {
     "name": "stdout",
     "output_type": "stream",
     "text": [
      "J, h, o, n, "
     ]
    }
   ],
   "source": [
    "for l in 'Jhon':\n",
    "\n",
    "    if l == 'o':\n",
    "\n",
    "        pass\n",
    "\n",
    "    print(l, end=', ')"
   ]
  },
  {
   "cell_type": "code",
   "execution_count": 22,
   "id": "d5deccc1",
   "metadata": {},
   "outputs": [
    {
     "name": "stdout",
     "output_type": "stream",
     "text": [
      "12 18\n"
     ]
    }
   ],
   "source": [
    "a = 12\n",
    "\n",
    "b = 15\n",
    "\n",
    "c = 18\n",
    "\n",
    "if a%2==0:\n",
    "\n",
    "    if b%c == 1:\n",
    "\n",
    "        c-=5\n",
    "\n",
    "        b+=12\n",
    "\n",
    "    if c%a == 6:\n",
    "\n",
    "        b-=13\n",
    "\n",
    "    else:\n",
    "\n",
    "        a=b=c=0\n",
    "\n",
    "print(a,c)"
   ]
  },
  {
   "cell_type": "code",
   "execution_count": 24,
   "id": "f66dfebe",
   "metadata": {},
   "outputs": [
    {
     "name": "stdout",
     "output_type": "stream",
     "text": [
      "914a\n"
     ]
    }
   ],
   "source": [
    "i = 0\n",
    "\n",
    "j = 20\n",
    "\n",
    "while True:\n",
    "\n",
    "    j -= 2\n",
    "\n",
    "    i += 3\n",
    "\n",
    "    if i >= j:\n",
    "\n",
    "        break\n",
    "\n",
    "    if j > 15:\n",
    "\n",
    "        continue\n",
    "\n",
    "    print(i, j, sep='', end='')\n",
    "\n",
    "else:\n",
    "\n",
    "    print(j, end='')\n",
    "\n",
    "print('a')"
   ]
  },
  {
   "cell_type": "code",
   "execution_count": 29,
   "id": "a1e296c1",
   "metadata": {},
   "outputs": [
    {
     "ename": "IndentationError",
     "evalue": "expected an indented block (Temp/ipykernel_4000/4064674246.py, line 5)",
     "output_type": "error",
     "traceback": [
      "\u001b[1;36m  File \u001b[1;32m\"C:\\Users\\ADMIN\\AppData\\Local\\Temp/ipykernel_4000/4064674246.py\"\u001b[1;36m, line \u001b[1;32m5\u001b[0m\n\u001b[1;33m    print('foo')\u001b[0m\n\u001b[1;37m    ^\u001b[0m\n\u001b[1;31mIndentationError\u001b[0m\u001b[1;31m:\u001b[0m expected an indented block\n"
     ]
    }
   ],
   "source": [
    "if (1, 2):\n",
    "\n",
    "\n",
    "\n",
    "print('foo')"
   ]
  },
  {
   "cell_type": "code",
   "execution_count": 26,
   "id": "ba24aea8",
   "metadata": {
    "scrolled": true
   },
   "outputs": [
    {
     "name": "stdout",
     "output_type": "stream",
     "text": [
      "foo\n"
     ]
    }
   ],
   "source": [
    " if (1, 2): print('foo')"
   ]
  },
  {
   "cell_type": "code",
   "execution_count": 27,
   "id": "cc3c892d",
   "metadata": {},
   "outputs": [
    {
     "name": "stdout",
     "output_type": "stream",
     "text": [
      "foo\n"
     ]
    }
   ],
   "source": [
    " if (1, 2):                 print('foo')"
   ]
  },
  {
   "cell_type": "code",
   "execution_count": 28,
   "id": "caf0d669",
   "metadata": {},
   "outputs": [
    {
     "name": "stdout",
     "output_type": "stream",
     "text": [
      "foo\n"
     ]
    }
   ],
   "source": [
    "if (1, 2): print('foo')"
   ]
  }
 ],
 "metadata": {
  "kernelspec": {
   "display_name": "Python 3 (ipykernel)",
   "language": "python",
   "name": "python3"
  },
  "language_info": {
   "codemirror_mode": {
    "name": "ipython",
    "version": 3
   },
   "file_extension": ".py",
   "mimetype": "text/x-python",
   "name": "python",
   "nbconvert_exporter": "python",
   "pygments_lexer": "ipython3",
   "version": "3.9.7"
  }
 },
 "nbformat": 4,
 "nbformat_minor": 5
}
