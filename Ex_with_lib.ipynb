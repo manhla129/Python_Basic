{
 "cells": [
  {
   "cell_type": "code",
   "execution_count": 2,
   "id": "7f5ecea9",
   "metadata": {
    "scrolled": true
   },
   "outputs": [
    {
     "name": "stdout",
     "output_type": "stream",
     "text": [
      "Is direct?\n",
      "False\n",
      "\n",
      "Is a equilateral triangle?\n",
      "False\n",
      "\n",
      "Is a isosceles triangle?\n",
      "True\n",
      "\n",
      "Is a right triangle?\n",
      "True\n",
      "\n",
      "Is a normal triangle?\n",
      "False\n"
     ]
    }
   ],
   "source": [
    "#B06_b2_Triangle_check\n",
    "from manh_lib import *\n",
    "triangle_check(0,0,1,0,0,1)"
   ]
  },
  {
   "cell_type": "code",
   "execution_count": 6,
   "id": "c1466502",
   "metadata": {},
   "outputs": [
    {
     "name": "stdout",
     "output_type": "stream",
     "text": [
      "True\n",
      "False\n"
     ]
    }
   ],
   "source": [
    "# B08_Kiem_tra_nguyen_am\n",
    "from manh_lib import *\n",
    "print(kiem_tra_nguyen_am('sdfjhsaf'))\n",
    "print(kiem_tra_nguyen_am('sdfjhsf'))"
   ]
  },
  {
   "cell_type": "code",
   "execution_count": 1,
   "id": "c6422dc9",
   "metadata": {},
   "outputs": [
    {
     "data": {
      "text/plain": [
       "True"
      ]
     },
     "execution_count": 1,
     "metadata": {},
     "output_type": "execute_result"
    }
   ],
   "source": [
    "# B09_check_block_character\n",
    "from manh_lib import *\n",
    "check_block_char(\"\"\"    sex in the morning.   \n",
    " Please go out child abuse.\n",
    "   Put your hand racist up         \"\"\")"
   ]
  },
  {
   "cell_type": "code",
   "execution_count": 7,
   "id": "0d98e78e",
   "metadata": {},
   "outputs": [
    {
     "name": "stdout",
     "output_type": "stream",
     "text": [
      "True\n",
      "False\n"
     ]
    }
   ],
   "source": [
    "# B09_pitago\n",
    "from manh_lib import *\n",
    "print(pitago_check(3,4,5))\n",
    "print(pitago_check(3,4,7))"
   ]
  },
  {
   "cell_type": "code",
   "execution_count": 1,
   "id": "40e0a956",
   "metadata": {},
   "outputs": [
    {
     "name": "stdout",
     "output_type": "stream",
     "text": [
      "Số phút nhập không đúng\n",
      "75400\n"
     ]
    }
   ],
   "source": [
    "# B09_phone_fee\n",
    "from manh_lib import *\n",
    "print(phone_fee(-5))\n",
    "print(phone_fee(101))"
   ]
  },
  {
   "cell_type": "code",
   "execution_count": 1,
   "id": "18f214af",
   "metadata": {},
   "outputs": [
    {
     "name": "stdout",
     "output_type": "stream",
     "text": [
      "Thứ Ba\n",
      "Thứ Tư\n"
     ]
    }
   ],
   "source": [
    "# B09_weekday\n",
    "from manh_lib import *\n",
    "print(weekday_export(5,4,2022))\n",
    "print(weekday_export(6,4,2022))"
   ]
  },
  {
   "cell_type": "code",
   "execution_count": 1,
   "id": "7a32c6e4",
   "metadata": {},
   "outputs": [
    {
     "name": "stdout",
     "output_type": "stream",
     "text": [
      "Loại Trung Bình\n",
      "Loại Giỏi\n"
     ]
    }
   ],
   "source": [
    "# B10_Checkscore\n",
    "from manh_lib import *\n",
    "print(check_score(5,6,7))\n",
    "print(check_score(9,8,9))"
   ]
  },
  {
   "cell_type": "code",
   "execution_count": 2,
   "id": "825fc41a",
   "metadata": {},
   "outputs": [
    {
     "name": "stdout",
     "output_type": "stream",
     "text": [
      "-x^2 - x - 1\n",
      "0\n"
     ]
    }
   ],
   "source": [
    "# B10_ptb2\n",
    "from manh_lib import *\n",
    "ptb2_format(-1,-1,-1)\n",
    "ptb2_format(0,0,0)"
   ]
  },
  {
   "cell_type": "code",
   "execution_count": 1,
   "id": "ec757456",
   "metadata": {},
   "outputs": [
    {
     "name": "stdout",
     "output_type": "stream",
     "text": [
      "Nguyễn Thị Phương Thảo\n",
      "Lã Văn Mạnh\n"
     ]
    }
   ],
   "source": [
    "# B11_fullname\n",
    "from manh_lib import *\n",
    "print(full_name('     NguYễn   ThỊ phƯơnG    tHảO         '))\n",
    "print(full_name('   lÃ văN     mẠNH      '))"
   ]
  },
  {
   "cell_type": "code",
   "execution_count": 1,
   "id": "f550f5a5",
   "metadata": {},
   "outputs": [
    {
     "name": "stdout",
     "output_type": "stream",
     "text": [
      "Mã vạch ĐÚNG\n",
      "Mã vạch SAI\n"
     ]
    }
   ],
   "source": [
    "# B11_checkcode\n",
    "from manh_lib import *\n",
    "print(check_code('4902778120972'))\n",
    "print(check_code('4902778120973'))\n"
   ]
  },
  {
   "cell_type": "code",
   "execution_count": 1,
   "id": "ee6419d5",
   "metadata": {},
   "outputs": [
    {
     "name": "stdout",
     "output_type": "stream",
     "text": [
      "85210\n",
      "854210\n"
     ]
    }
   ],
   "source": [
    "# B11_chuoigiamdan\n",
    "from manh_lib import *\n",
    "max_range_decre('85210374823643282')\n",
    "max_range_decre('854210374823643282')"
   ]
  },
  {
   "cell_type": "code",
   "execution_count": 1,
   "id": "046e91a5",
   "metadata": {},
   "outputs": [
    {
     "name": "stdout",
     "output_type": "stream",
     "text": [
      "P không thuộc vùng D\n",
      "P thuộc vùng D\n"
     ]
    }
   ],
   "source": [
    "# B11_checkdiemtrongvung\n",
    "from manh_lib import *\n",
    "check_point_in_area(-1,-2)    \n",
    "check_point_in_area(3,0.5)    "
   ]
  },
  {
   "cell_type": "code",
   "execution_count": 1,
   "id": "6c235f4c",
   "metadata": {},
   "outputs": [
    {
     "data": {
      "text/plain": [
       "-0.5885391235351562"
      ]
     },
     "execution_count": 1,
     "metadata": {},
     "output_type": "execute_result"
    }
   ],
   "source": [
    "# B12_nghiem_gan_dung\n",
    "from manh_lib import *\n",
    "nghiem_gan_dung(-1,1,0.00001)"
   ]
  },
  {
   "cell_type": "code",
   "execution_count": 1,
   "id": "75448910",
   "metadata": {},
   "outputs": [
    {
     "name": "stdout",
     "output_type": "stream",
     "text": [
      "3*1=3\t4*1=4\t5*1=5\t6*1=6\t\n",
      "3*2=6\t4*2=8\t5*2=10\t6*2=12\t\n",
      "3*3=9\t4*3=12\t5*3=15\t6*3=18\t\n",
      "3*4=12\t4*4=16\t5*4=20\t6*4=24\t\n",
      "3*5=15\t4*5=20\t5*5=25\t6*5=30\t\n",
      "3*6=18\t4*6=24\t5*6=30\t6*6=36\t\n",
      "3*7=21\t4*7=28\t5*7=35\t6*7=42\t\n",
      "3*8=24\t4*8=32\t5*8=40\t6*8=48\t\n",
      "3*9=27\t4*9=36\t5*9=45\t6*9=54\t\n"
     ]
    }
   ],
   "source": [
    "# B12_bang_cuu_chuong\n",
    "from manh_lib import *\n",
    "bang_cuu_chuong_nam_ngang(3,6)"
   ]
  },
  {
   "cell_type": "code",
   "execution_count": 2,
   "id": "7c3024a6",
   "metadata": {
    "scrolled": false
   },
   "outputs": [
    {
     "name": "stdout",
     "output_type": "stream",
     "text": [
      "\n",
      "   *        *        *        *     \n",
      "\n",
      "  ***      ***      ***      ***    \n",
      "\n",
      " *****    *****    *****    *****   \n",
      "\n",
      "*******  *******  *******  *******  \n",
      "\n",
      " *****    *****    *****    *****   \n",
      "\n",
      "  ***      ***      ***      ***    \n",
      "\n",
      "   *        *        *        *     \n"
     ]
    }
   ],
   "source": [
    "# B13_ve_hinh_sao\n",
    "from manh_lib import *\n",
    "draw_star(7,4)"
   ]
  },
  {
   "cell_type": "code",
   "execution_count": 1,
   "id": "67ae00a7",
   "metadata": {},
   "outputs": [
    {
     "data": {
      "text/plain": [
       "184"
      ]
     },
     "execution_count": 1,
     "metadata": {},
     "output_type": "execute_result"
    }
   ],
   "source": [
    "# B13_cach_cong_tien\n",
    "from manh_lib import *\n",
    "money(2,3,5,100)"
   ]
  },
  {
   "cell_type": "code",
   "execution_count": 1,
   "id": "70f04ff1",
   "metadata": {},
   "outputs": [],
   "source": [
    "# B14_ve_n_ngoi_sao\n",
    "from manh_lib import *\n",
    "draw_n_star(5)"
   ]
  },
  {
   "cell_type": "code",
   "execution_count": 1,
   "id": "fe8b5fe1",
   "metadata": {},
   "outputs": [
    {
     "data": {
      "text/plain": [
       "'Dao Thi Phuong Thao'"
      ]
     },
     "execution_count": 1,
     "metadata": {},
     "output_type": "execute_result"
    }
   ],
   "source": [
    "# B14_fullname_en\n",
    "from manh_lib import *\n",
    "fullname_en(' Đào  thỊ   pHưƠng   tHảO     ')"
   ]
  }
 ],
 "metadata": {
  "kernelspec": {
   "display_name": "Python 3 (ipykernel)",
   "language": "python",
   "name": "python3"
  },
  "language_info": {
   "codemirror_mode": {
    "name": "ipython",
    "version": 3
   },
   "file_extension": ".py",
   "mimetype": "text/x-python",
   "name": "python",
   "nbconvert_exporter": "python",
   "pygments_lexer": "ipython3",
   "version": "3.9.7"
  }
 },
 "nbformat": 4,
 "nbformat_minor": 5
}
