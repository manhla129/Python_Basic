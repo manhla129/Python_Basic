{
 "cells": [
  {
   "cell_type": "code",
   "execution_count": 5,
   "id": "735d166c",
   "metadata": {},
   "outputs": [
    {
     "name": "stdout",
     "output_type": "stream",
     "text": [
      "Số hình lập phương tối đa là: \n",
      "19314\n"
     ]
    }
   ],
   "source": [
    "#Tính số hình lập phương tối đa có thể chứa trong hình hộp chữ nhật\n",
    "# nhập cạnh của hình hộp chữ nhật\n",
    "x = 111\n",
    "y = 87\n",
    "z = 56\n",
    "# nhập cạnh của hình lập phương\n",
    "t = 3\n",
    "\n",
    "count = (x//t)*(y//t)*(z//t)\n",
    "print('Số hình lập phương tối đa là: ')\n",
    "print(count)"
   ]
  }
 ],
 "metadata": {
  "kernelspec": {
   "display_name": "Python 3 (ipykernel)",
   "language": "python",
   "name": "python3"
  },
  "language_info": {
   "codemirror_mode": {
    "name": "ipython",
    "version": 3
   },
   "file_extension": ".py",
   "mimetype": "text/x-python",
   "name": "python",
   "nbconvert_exporter": "python",
   "pygments_lexer": "ipython3",
   "version": "3.9.7"
  }
 },
 "nbformat": 4,
 "nbformat_minor": 5
}
